{
 "cells": [
  {
   "cell_type": "markdown",
   "metadata": {},
   "source": [
    "# Temperature from a well organised CSV file:\n",
    "\n",
    "The file: history_export_2019-06-25T14_47_42.csv \n",
    "which is located in the following web directory:\n",
    "https://cernbox.cern.ch/index.php/s/pRaZgmcb9aPdXt5\n",
    "\n",
    "contains hourly data since 1995 until 2019 of the city of Basel. \n",
    "It was obtained from: https://www.meteoblue.com/\n",
    "\n",
    "- Download the file.\n",
    "- Open and look at the file. What variable do you see?\n",
    "- Import the data contained in the file as a pandas dataframe.\n",
    "- Plot the original temperature data as a function of time. What kind of shape is observed?\n",
    "- Try to model the air temperature using a sine function of the form y = a sin(b·(x – c))  + d, where:\n",
    "    - a is the amplitude of the form (try to guess what it is).\n",
    "    - b determine the period of the wave (common sense suggests a cycle around 365 days long, in which case b would be 2π/365.)\n",
    "    - c determines the horizontal shift of the wave (compare to 0, it's not very interesting)\n",
    "    - d is the vertical shift \n",
    "- guess some default values for each of these.\n",
    "- What value of b do we find?\n",
    "\n",
    "- Compute a new list with the average temperature of every months, and plot it as a function of time.\n",
    "\n",
    "- Take a look at some of the other variables present in the dataset. Plotting the temperature against other variables using a scatter plot, to which variable do you observe a correlation?"
   ]
  },
  {
   "cell_type": "code",
   "execution_count": null,
   "metadata": {},
   "outputs": [],
   "source": []
  }
 ],
 "metadata": {
  "kernelspec": {
   "display_name": "Python 3",
   "language": "python",
   "name": "python3"
  },
  "language_info": {
   "codemirror_mode": {
    "name": "ipython",
    "version": 3
   },
   "file_extension": ".py",
   "mimetype": "text/x-python",
   "name": "python",
   "nbconvert_exporter": "python",
   "pygments_lexer": "ipython3",
   "version": "3.7.3"
  }
 },
 "nbformat": 4,
 "nbformat_minor": 2
}
