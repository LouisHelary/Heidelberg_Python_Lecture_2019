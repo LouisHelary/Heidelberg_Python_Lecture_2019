{
 "cells": [
  {
   "cell_type": "markdown",
   "metadata": {},
   "source": [
    "# Temperature from a database file:\n",
    "\n",
    "The file: domoticz.db\n",
    "which is located in the following web directory:\n",
    "https://cernbox.cern.ch/index.php/s/pRaZgmcb9aPdXt5\n",
    "\n",
    "contains a sql database from my domotic installation. There are many tables contains in the DB file, but let's look at the following two:\n",
    "- Temperature: \n",
    "    - Is a collection of data points from 4 sensors located in and outside my appartment every 5min over the last 48h.\n",
    "    - The table is organised as follow: (DeviceID, Temperature, Chill, Humidity, Barometer, DewPoint, SetPoint, Date)\n",
    "    \n",
    "- Temperature_Calendar: \n",
    "    - Is a collection of data points from the same sensors averaged every days.\n",
    "    - The table is organised as follow: (DeviceID, Temp_Min, Temp_Max, Temp_Avg, Chill_Min, Chill_Max, Humidity, Barometer, DewPoint, SetPoint_Min, SetPoint_Max, SetPoint_Avg, Date)\n",
    "    \n",
    "- Looking at the python/ReadDB.py file you will find some explanation how to read all the contente of a table from an sqlite DB. \n",
    "\n",
    "    - Plot for each table the values of each sensors.\n",
    "    - From the previous plot, can you guess which sensor is the one located outside the house?\n",
    "    - From the calendar table, can you guess when each sensor started to operate?\n",
    "\n",
    "- Looking at the python/WriteDB.py file you will find some explanation how to write a table into an sqlite DB. \n",
    "    - Create two DB files one for each collection: Temperature.db and Temperature_Calendar,db, where you will fill in only the following values:\n",
    "        - Temperature: (DeviceID, Temperature, Humidity , DewPoint , Date) with types: (INTEGER, FLOAT, INTEGER, FLOAT, DATETIME)\n",
    "        - Temperature_Calendar: (DeviceID, Temp_Min, Temp_Max, Temp_Avg, Humidity, DewPoint, Date) with types: (INTEGER, FLOAT, FLOAT, FLOAT, INTEGER, FLOAT, DATETIME)\n",
    "    \n"
   ]
  },
  {
   "cell_type": "code",
   "execution_count": null,
   "metadata": {},
   "outputs": [],
   "source": []
  }
 ],
 "metadata": {
  "kernelspec": {
   "display_name": "Python 3",
   "language": "python",
   "name": "python3"
  },
  "language_info": {
   "codemirror_mode": {
    "name": "ipython",
    "version": 3
   },
   "file_extension": ".py",
   "mimetype": "text/x-python",
   "name": "python",
   "nbconvert_exporter": "python",
   "pygments_lexer": "ipython3",
   "version": "3.7.3"
  }
 },
 "nbformat": 4,
 "nbformat_minor": 2
}
