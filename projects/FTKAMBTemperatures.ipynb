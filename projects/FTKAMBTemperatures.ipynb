{
 "cells": [
  {
   "cell_type": "markdown",
   "metadata": {},
   "source": [
    "# FTK AMB temperatures:\n",
    "\n",
    "The file: FTK_AMB_TemperatureData.log and FTK_AMB_TemperatureData_2.log which are located in the following web directory: https://cernbox.cern.ch/index.php/s/pRaZgmcb9aPdXt5\n",
    "\n",
    "contains log files of data collected from a program that runs over the Associated Membory Board (AMB) of the ATLAS Fast TracK trigger (FTK, if you want to know more about this system go here: https://cds.cern.ch/record/2058774/files/ATL-DAQ-SLIDE-2015-778.pdf ). This program display a lot of information on the board status. It's execution takes a few second since it needs to connect to the board and read the information from the VME bus. In the file FTK_AMB_TemperatureData_2.log only the temperatures are kept in a different run.\n",
    "\n",
    "In march 2019, we found out that the system would run for about 30min, then the AMB would freeze, and stop the data taking. As part of the investigation we decided to run the program in a infinte while loop to observe the evolution of the temperature during the run. \n",
    "\n",
    "Each AMBs has 4 mezzanine cards, with 2 temperature sensors. \n",
    "\n",
    "Start from FTK_AMB_TemperatureData.log file and isolate the temperatures. Plot each of the 8 temperatures as a function of the time, and display them on a single plot. The result should look like the following plot:\n",
    "![title](../figures/LambTemperatureWithBlinds.png)\n",
    "\n",
    "Repeat the same for the file FTK_AMB_TemperatureData_2.log where only the temperature were kept.\n",
    "\n",
    "Do you see a difference between the two plots? \n"
   ]
  },
  {
   "cell_type": "code",
   "execution_count": null,
   "metadata": {},
   "outputs": [],
   "source": []
  }
 ],
 "metadata": {
  "kernelspec": {
   "display_name": "Python 3",
   "language": "python",
   "name": "python3"
  },
  "language_info": {
   "codemirror_mode": {
    "name": "ipython",
    "version": 3
   },
   "file_extension": ".py",
   "mimetype": "text/x-python",
   "name": "python",
   "nbconvert_exporter": "python",
   "pygments_lexer": "ipython3",
   "version": "3.7.3"
  }
 },
 "nbformat": 4,
 "nbformat_minor": 2
}
