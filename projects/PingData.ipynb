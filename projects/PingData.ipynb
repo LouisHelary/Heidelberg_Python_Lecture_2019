{
 "cells": [
  {
   "cell_type": "markdown",
   "metadata": {},
   "source": [
    "# Ping data analysis:\n",
    "\n",
    "The file: pingGoogleData.log which is located in the following web directory: https://cernbox.cern.ch/index.php/s/pRaZgmcb9aPdXt5\n",
    "\n",
    "contains a log file from a computer connected in my home to monitor when the connection is up and down.\n",
    "\n",
    "The log file was obtained using the ping command to one google server. Ping sends a request to a server and wait that the server acknowledges. The acknoledgment is a string that looks like this:\n",
    "\"2019-07-09 22:54:20 64 bytes from 216.58.213.163: icmp_seq=309 ttl=54 time=13.4 ms\"\n",
    "\n",
    "Where:\n",
    "- \"2019-07-09 22:54:20\" is the date.\n",
    "- \"64 bytes\" is the size of the packet that was sent from the server.\n",
    "- \"216.58.213.163\" is the IP address of the server.\n",
    "- \"icmp_seq=309\" is the number of the request (this counter get restarted from time to time)\n",
    "- \"ttl=54\" is the time to which the request is considered valid, if the server reply comes too late it is considered lost.\n",
    "- \"time=13.4 ms\" is the latency.\n",
    "\n",
    "The command was running from 2019-07-09 to 2019-09-05.\n",
    "\n",
    "- Determine when the connection was alive.\n",
    "- When the connection is lost, what is the average time to recover?\n",
    "- Plot the latency value as a function of time, and in a Histogram."
   ]
  },
  {
   "cell_type": "code",
   "execution_count": null,
   "metadata": {},
   "outputs": [],
   "source": []
  }
 ],
 "metadata": {
  "kernelspec": {
   "display_name": "Python 3",
   "language": "python",
   "name": "python3"
  },
  "language_info": {
   "codemirror_mode": {
    "name": "ipython",
    "version": 3
   },
   "file_extension": ".py",
   "mimetype": "text/x-python",
   "name": "python",
   "nbconvert_exporter": "python",
   "pygments_lexer": "ipython3",
   "version": "3.7.3"
  }
 },
 "nbformat": 4,
 "nbformat_minor": 2
}
