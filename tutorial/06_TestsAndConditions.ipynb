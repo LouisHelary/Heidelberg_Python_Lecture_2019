{
 "cells": [
  {
   "cell_type": "markdown",
   "metadata": {},
   "source": [
    "# Tests and conditions\n",
    "\n",
    "## 1) Introduction\n",
    "\n",
    "In Python tests are executed with the instruction if and a comparisons between variables. The instructions are contained in an indented block and are executed only if the condition is correct."
   ]
  },
  {
   "cell_type": "code",
   "execution_count": null,
   "metadata": {},
   "outputs": [],
   "source": [
    "x=2\n",
    "if x==2:\n",
    "    print(\"It is an integer\")\n",
    "\n",
    "if x==\"tiger\":\n",
    "    print(\"It is an animal\")"
   ]
  },
  {
   "cell_type": "markdown",
   "metadata": {},
   "source": [
    "## 2) Multiple conditions\n",
    "\n",
    "If one need to make a tests and execute an alternative conditions if it is failed, this is done like this:"
   ]
  },
  {
   "cell_type": "code",
   "execution_count": null,
   "metadata": {},
   "outputs": [],
   "source": [
    "x=2\n",
    "if x==2:\n",
    "    print(\"It is an integer\")\n",
    "else:\n",
    "    print(\"It is not an integer \")"
   ]
  },
  {
   "cell_type": "markdown",
   "metadata": {},
   "source": [
    "More complicated cases where several tests needs to be done are handled as:"
   ]
  },
  {
   "cell_type": "code",
   "execution_count": null,
   "metadata": {},
   "outputs": [],
   "source": [
    "x=3\n",
    "if x==2:\n",
    "    print(\"x is 2\")\n",
    "elif x>2:\n",
    "    print(\"x is greather than 2 \")\n",
    "elif x==0:\n",
    "    print(\"x is equal to 0\")\n",
    "else:\n",
    "    print(\"x is not equal to 0, and is less or equal to 2\")"
   ]
  },
  {
   "cell_type": "markdown",
   "metadata": {},
   "source": [
    "It is very important to be carefull to the indentation at this point, since each block of instruction is separated witht he indentation. Two codes very similar can give you two very different results if you don't pay attention:"
   ]
  },
  {
   "cell_type": "code",
   "execution_count": null,
   "metadata": {},
   "outputs": [],
   "source": [
    "num = [4, 5, 6]\n",
    "for nb in num :\n",
    "    if nb == 5:\n",
    "        print (\" The test is true \")\n",
    "        print (\" because nb is equal to {}\". format (nb ))\n",
    "        \n",
    "        \n",
    "print (\"############\")\n",
    "\n",
    "for nb in num :\n",
    "    if nb == 5:\n",
    "        print (\" The test is true \")\n",
    "    print (\" because nb is equal to {}\". format (nb ))"
   ]
  },
  {
   "cell_type": "markdown",
   "metadata": {},
   "source": [
    "## 3) and, or\n",
    "\n",
    "One can also combine different conditions using the \"and\" and \"or\" instructions. In the following table the result of combining is summarized:\n",
    "\n",
    "\n",
    "| condition 1 | operator  | condition 2 | result |\n",
    "|-------------|-----------|-------------|--------|\n",
    "|     True    |     OR    |    True     |  True  |\n",
    "|     True    |     OR    |    False    |  True  |\n",
    "|     False   |     OR    |    True     |  True  |\n",
    "|     False   |     OR    |    False    |  False |\n",
    "|     True    |     AND   |    True     |  True  |\n",
    "|     True    |     AND   |    False    |  False |\n",
    "|     False   |     AND   |    True     |  False |\n",
    "|     False   |     AND   |    False    |  False |\n",
    "\n",
    "\n",
    "Here are some examples: "
   ]
  },
  {
   "cell_type": "code",
   "execution_count": null,
   "metadata": {},
   "outputs": [],
   "source": [
    "x=2\n",
    "y=2\n",
    "if x==2 and y==2:\n",
    "    print (\"The test is true\")\n",
    "    \n",
    "print(True or False)"
   ]
  },
  {
   "cell_type": "markdown",
   "metadata": {},
   "source": [
    "## 4) break and continue\n",
    "\n",
    "These instructions are used to modifie the behavior of loops (for or while). Break will stop a loop, while continue will ignore the block of instruction in the loop after it. For example: "
   ]
  },
  {
   "cell_type": "code",
   "execution_count": null,
   "metadata": {},
   "outputs": [],
   "source": [
    "print(\"Example of break:\")\n",
    "for i in range (5):\n",
    "    if i > 2:\n",
    "        break\n",
    "    print (i)\n",
    "\n",
    "print(\"Example of continue:\")\n",
    "for i in range (5):\n",
    "    if i == 2:\n",
    "        continue\n",
    "    print (i)\n",
    "    \n",
    "\n"
   ]
  },
  {
   "cell_type": "markdown",
   "metadata": {},
   "source": [
    "## 5) Testing float numbers:\n",
    "\n",
    "When testing floating numbers it is not wise to test them using the equality operators. Indeed float numbers are only calculated up to a given precision, therefore two numbers that are the same will not have the exact same calculated value. For example:"
   ]
  },
  {
   "cell_type": "code",
   "execution_count": null,
   "metadata": {},
   "outputs": [],
   "source": [
    "print((3 - 2.7) == 0.3)\n",
    "print(3-2.7)\n",
    "\n"
   ]
  },
  {
   "cell_type": "markdown",
   "metadata": {},
   "source": [
    "A better way to realize this is to look at a number using the formated printout that we saw before."
   ]
  },
  {
   "cell_type": "code",
   "execution_count": null,
   "metadata": {},
   "outputs": [],
   "source": [
    "print(0.3)\n",
    "print(\"{:.5f}\".format(0.3))\n",
    "print(\"{:.60f}\".format(0.3))\n",
    "print(\"{:.60f}\".format(3.0 - 2.7))"
   ]
  },
  {
   "cell_type": "markdown",
   "metadata": {},
   "source": [
    "The easiest way to test the equality of two floating variable is to test them under a given precision. For instance:"
   ]
  },
  {
   "cell_type": "code",
   "execution_count": null,
   "metadata": {},
   "outputs": [],
   "source": [
    "delta = 0.0001\n",
    "var = 3.0 - 2.7\n",
    "print(abs ( var - 0.3) < delta) #Using the absolute value"
   ]
  },
  {
   "cell_type": "markdown",
   "metadata": {},
   "source": [
    "## 6) Examples:\n",
    "- The min function return the smallest element in a given list. Without using this function, determine what is the smallest element in the following list: [8, 4, 6, 1, 5]\n",
    "\n",
    "- Get the maximum value in the following list [14, 9, 13, 15 et 12], and get the mean value after having removed the two extremum numbers of the list.\n",
    "\n",
    "- Make a loop that will construct 4 lists using all numbers from 0 to 100, in the first list will be stored the even numbers, in the second list the numbers dividable by 3, in the 4th list the ones dividable by 5, and then the ones by 10. These lists should not be exclusive of each others.\n",
    "\n",
    "->Si j ai le temps tapper d autres exerice 43."
   ]
  },
  {
   "cell_type": "code",
   "execution_count": null,
   "metadata": {},
   "outputs": [],
   "source": []
  }
 ],
 "metadata": {
  "kernelspec": {
   "display_name": "Python 3",
   "language": "python",
   "name": "python3"
  },
  "language_info": {
   "codemirror_mode": {
    "name": "ipython",
    "version": 3
   },
   "file_extension": ".py",
   "mimetype": "text/x-python",
   "name": "python",
   "nbconvert_exporter": "python",
   "pygments_lexer": "ipython3",
   "version": "3.7.3"
  }
 },
 "nbformat": 4,
 "nbformat_minor": 2
}
