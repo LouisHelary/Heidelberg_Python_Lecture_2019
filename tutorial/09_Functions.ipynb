{
 "cells": [
  {
   "cell_type": "markdown",
   "metadata": {},
   "source": [
    "# Functions\n",
    "\n",
    "## 1) Introduction\n",
    "\n",
    "Functions are very useful to apply multiple time a block of instructions. Software written with such sets of instructions is also more readable and easy to debug.\n",
    "\n",
    "A function takes argument in input, apply a block of instruction on these, and return a result.\n",
    "\n",
    "## 2) Definition\n",
    "\n",
    "To define a new function in Python, one just need tto use the keyword def, for instance:"
   ]
  },
  {
   "cell_type": "code",
   "execution_count": null,
   "metadata": {},
   "outputs": [],
   "source": [
    "def square(x):\n",
    "    return x**2\n",
    "\n",
    "print(square(2))"
   ]
  },
  {
   "cell_type": "markdown",
   "metadata": {},
   "source": [
    "As for the loops and the tests, in Python a new function is defined in an indented block of instruction after \"def funcname():\". Functions can be used to instentiate variables:\n"
   ]
  },
  {
   "cell_type": "code",
   "execution_count": null,
   "metadata": {},
   "outputs": [],
   "source": [
    "k=square(3)\n",
    "\n",
    "print(k)"
   ]
  },
  {
   "cell_type": "markdown",
   "metadata": {},
   "source": [
    "It is also possible to define functions that do not take any argument and do not return anything. For example:"
   ]
  },
  {
   "cell_type": "code",
   "execution_count": null,
   "metadata": {},
   "outputs": [],
   "source": [
    "def hello():\n",
    "    print(\"hello\")\n",
    "\n",
    "hello()\n",
    "var=hello()\n",
    "print(var)"
   ]
  },
  {
   "cell_type": "markdown",
   "metadata": {},
   "source": [
    "The number of arguments taken by the function is free. It is not necessary to type the argument used by a function. This will work as long as the operations performed on the arguments are accepted by the language. For instance let's define the multiply function:"
   ]
  },
  {
   "cell_type": "code",
   "execution_count": null,
   "metadata": {},
   "outputs": [],
   "source": [
    "def multiply(x,y):\n",
    "    return x*y\n",
    "\n",
    "print(multiply(2,3))\n",
    "print(multiply(2.,3.))\n",
    "print(multiply(2,\"three\"))\n",
    "print(multiply(\"two\",\"three\"))"
   ]
  },
  {
   "cell_type": "markdown",
   "metadata": {},
   "source": [
    "It is possible to return multiple values at the same time. For instance on cae use tuple (we will see this later) or lists:"
   ]
  },
  {
   "cell_type": "code",
   "execution_count": null,
   "metadata": {},
   "outputs": [],
   "source": [
    "def square_cube(x):\n",
    "    return x**2 , x**3\n",
    "\n",
    "def square_cube2(x):\n",
    "    return [x**2,x**3]\n",
    "\n",
    "ntuple=square_cube(3)\n",
    "print(ntuple,type(ntuple))\n",
    "\n",
    "lists=square_cube2(3)\n",
    "print(lists,type(lists))\n"
   ]
  },
  {
   "cell_type": "markdown",
   "metadata": {},
   "source": [
    "One can use these functions to instentiate multiple values ate the same time, for instance:\n"
   ]
  },
  {
   "cell_type": "code",
   "execution_count": null,
   "metadata": {},
   "outputs": [],
   "source": [
    "z1,z2=square_cube2(3)\n",
    "print(z1,z2)"
   ]
  },
  {
   "cell_type": "markdown",
   "metadata": {},
   "source": [
    "## 2) Arguments\n",
    "\n",
    "What happen if we define a function that expects two arguments, and we use this function only with a single number:"
   ]
  },
  {
   "cell_type": "code",
   "execution_count": null,
   "metadata": {},
   "outputs": [],
   "source": [
    "def multiply(x,y):\n",
    "    return x*y\n",
    "\n",
    "print(multiply(2,3))\n",
    "print(multiply(2))\n"
   ]
  },
  {
   "cell_type": "markdown",
   "metadata": {},
   "source": [
    "Python return an error, because the positional arguments that were used in the function declaration were not provided correctly. Note that it is mandatory to use the arguments defined in the function in the proper order. It is possible to define a default assignement value to the variables used, or keyword argument:\n"
   ]
  },
  {
   "cell_type": "code",
   "execution_count": null,
   "metadata": {},
   "outputs": [],
   "source": [
    "def ret(x=1):\n",
    "    return x\n",
    "\n",
    "print(ret())\n",
    "print(ret(10))"
   ]
  },
  {
   "cell_type": "markdown",
   "metadata": {},
   "source": [
    "This can be done for multiple arguments:"
   ]
  },
  {
   "cell_type": "code",
   "execution_count": null,
   "metadata": {},
   "outputs": [],
   "source": [
    "def fct (x=0, y=0, z =0):\n",
    "    return x, y, z\n",
    "print(fct())\n",
    "print(fct(10))\n",
    "print(fct(10,8))\n",
    "print(fct(10,8,3))"
   ]
  },
  {
   "cell_type": "markdown",
   "metadata": {},
   "source": [
    "It is possible to change the order of the keyword arguments when a function is called if one explicitely give the name of the variable:"
   ]
  },
  {
   "cell_type": "code",
   "execution_count": null,
   "metadata": {},
   "outputs": [],
   "source": [
    "print(fct (z=10 , x=3, y =80))\n",
    "print(fct (z=10 , y =80))\n"
   ]
  },
  {
   "cell_type": "markdown",
   "metadata": {},
   "source": [
    "It is possible to mix definitions with positionnal and keywords arguments, but the positionnal arguments have to be declared first:\n"
   ]
  },
  {
   "cell_type": "code",
   "execution_count": null,
   "metadata": {},
   "outputs": [],
   "source": [
    "def fct(a, b, x=0, y=0, z =0):\n",
    "    return a, b, x, y, z\n",
    "\n",
    "print(fct(1,1))"
   ]
  },
  {
   "cell_type": "markdown",
   "metadata": {},
   "source": [
    "## 3) local and global variables\n",
    "\n",
    "A variable is local when it is created inside a function. A variable is global when it is created in the main program. For instance:"
   ]
  },
  {
   "cell_type": "code",
   "execution_count": null,
   "metadata": {},
   "outputs": [],
   "source": [
    "# functions definition\n",
    "def square (x):\n",
    "    y = x **2\n",
    "    return y\n",
    "\n",
    "# Main program\n",
    "z = 5\n",
    "result = square (z)\n",
    "print ( result )\n",
    "print(y)"
   ]
  },
  {
   "cell_type": "markdown",
   "metadata": {},
   "source": [
    "In this code, x and y are local variables because they were used to defined the square function, while z and results are global variables. If one try to access y in the main program, Python return a crash. It is however possible to use global variable in functions:"
   ]
  },
  {
   "cell_type": "code",
   "execution_count": null,
   "metadata": {},
   "outputs": [],
   "source": [
    "# functions definition\n",
    "def func():\n",
    "    print(x)\n",
    "\n",
    "# Main program\n",
    "x = 3\n",
    "func()"
   ]
  },
  {
   "cell_type": "markdown",
   "metadata": {},
   "source": [
    "It is not possible to modify a global variable in a function:"
   ]
  },
  {
   "cell_type": "code",
   "execution_count": null,
   "metadata": {},
   "outputs": [],
   "source": [
    "# functions definition\n",
    "def func2():\n",
    "    x2+=1\n",
    "    \n",
    "# Main program\n",
    "x2 = 3\n",
    "func2()\n",
    "x2"
   ]
  },
  {
   "cell_type": "markdown",
   "metadata": {},
   "source": [
    "Except if one uses the global word:"
   ]
  },
  {
   "cell_type": "code",
   "execution_count": null,
   "metadata": {},
   "outputs": [],
   "source": [
    "# functions definition\n",
    "def func3():\n",
    "    global x3\n",
    "    x3+=1\n",
    "    \n",
    "# Main program\n",
    "x3 = 3\n",
    "func3()\n",
    "x3"
   ]
  },
  {
   "cell_type": "markdown",
   "metadata": {},
   "source": [
    "In general, it is not very wise to use global functions across different functions, since the code will be harder to read and to debug."
   ]
  },
  {
   "cell_type": "markdown",
   "metadata": {},
   "source": [
    "## 4) Calling a function from another function\n",
    "\n",
    "It is possible to call a function from another function, if the first function has been loaded by Python. For instance:"
   ]
  },
  {
   "cell_type": "code",
   "execution_count": null,
   "metadata": {},
   "outputs": [],
   "source": [
    "# functions definition\n",
    "def polynom (x):\n",
    "    return (x **2 - 2*x + 1)\n",
    "\n",
    "def calc_vals (beg , end ):\n",
    "    list_vals = []\n",
    "    for x in range (beg , end + 1):\n",
    "        list_vals . append ( polynom (x))\n",
    "    return list_vals\n",
    "\n",
    "# Main program\n",
    "print ( calc_vals (-5, 5))"
   ]
  },
  {
   "cell_type": "markdown",
   "metadata": {},
   "source": [
    "A function can even call itself, such a function will be called a recusive function. For instance if one need to define the mathematical operator Factorial: $n!=n \\times n-1 \\times ... \\times 2 \\times 1$, this can be obtained using the following lines:"
   ]
  },
  {
   "cell_type": "code",
   "execution_count": null,
   "metadata": {},
   "outputs": [],
   "source": [
    "# functions definition\n",
    "\n",
    "def factorial (n):\n",
    "    if n == 1:\n",
    "        return 1\n",
    "    else :\n",
    "        return n * factorial(n - 1)\n",
    "\n",
    "# Main program\n",
    "print ( factorial(4))"
   ]
  },
  {
   "cell_type": "markdown",
   "metadata": {},
   "source": [
    "In summary the function call itself until the moment where n is 1, and decrease n by one at each iteration.\n"
   ]
  },
  {
   "cell_type": "markdown",
   "metadata": {},
   "source": [
    "## 5) Functions and modifiable types:\n",
    "\n",
    "When using modifiable types such as lists in functions one need to pay attention. For instance:"
   ]
  },
  {
   "cell_type": "code",
   "execution_count": 8,
   "metadata": {},
   "outputs": [
    {
     "name": "stdout",
     "output_type": "stream",
     "text": [
      "4591805192\n",
      "4591805192\n"
     ]
    },
    {
     "data": {
      "text/plain": [
       "[1, -127, 3]"
      ]
     },
     "execution_count": 8,
     "metadata": {},
     "output_type": "execute_result"
    }
   ],
   "source": [
    "def func():\n",
    "    list[1] = -127\n",
    "    print(id(list))\n",
    "\n",
    "# Main program\n",
    "list = [1 ,2 ,3]\n",
    "print(id(list))\n",
    "func()\n",
    "list\n"
   ]
  },
  {
   "cell_type": "markdown",
   "metadata": {},
   "source": [
    "Modify the list. One can observe that the addresses of the two variables displayed using the ``id()`` function return the same number. By default if a list is passed as argument to a function, it is its reference that is passed to the function, and therefore the list can be modified:"
   ]
  },
  {
   "cell_type": "code",
   "execution_count": null,
   "metadata": {},
   "outputs": [],
   "source": [
    "def func(x):\n",
    "    x[1] = -15\n",
    "\n",
    "# Main program\n",
    "list = [1 ,2 ,3]\n",
    "func(list)\n",
    "list"
   ]
  },
  {
   "cell_type": "markdown",
   "metadata": {},
   "source": [
    "If one want to avoid this behavior, one need to pass the list explicitely:"
   ]
  },
  {
   "cell_type": "code",
   "execution_count": null,
   "metadata": {},
   "outputs": [],
   "source": [
    "def func(x):\n",
    "    x[1] = -15\n",
    "\n",
    "# Main program\n",
    "list = [1 ,2 ,3]\n",
    "func(list[:])\n",
    "list"
   ]
  },
  {
   "cell_type": "markdown",
   "metadata": {},
   "source": [
    "It is wise to explicitely document the code when a function modify a value."
   ]
  },
  {
   "cell_type": "markdown",
   "metadata": {},
   "source": [
    "## 6) Exercices:\n",
    "\n",
    "- Create a function gen_pyramid(N) that will create a pyramid of characters displayed over N lines.\n",
    "- Create a function that takes as an argument a positive integer N>2 and will return true if the number tested is prime and false if it is not. Then display the list of all prime numbers from 0 to 100.\n",
    "- Create a function gen_distrib(beg,end,n) that takes 3 arguments and return a list of floats generated using the uniform distributions:\n",
    "    - beg: beginning of the range to generate numbers\n",
    "    - end: end of the range to generate numbers\n",
    "    - n : number of events to generate\n",
    "- Create a function stat() that take a list of numbers in input and will return 3 numbers: min, max, and mean value.\n",
    "- Use these last two functions to generate 20 lists of random numbers with 100 numbers each and display the stat result with 2 digits precision. Do you see any important deviation from one sample to another? What happen if you restart the script with 1000 numbers in each list and then 10000?\n",
    "- Create a function add_rand_nb() that takes a list as argument, and add randomly an integer in the range -10,10 to each element of the list. Display the original and modified list next to each others."
   ]
  },
  {
   "cell_type": "code",
   "execution_count": null,
   "metadata": {},
   "outputs": [],
   "source": []
  },
  {
   "cell_type": "code",
   "execution_count": null,
   "metadata": {},
   "outputs": [],
   "source": []
  }
 ],
 "metadata": {
  "kernelspec": {
   "display_name": "Python 3",
   "language": "python",
   "name": "python3"
  },
  "language_info": {
   "codemirror_mode": {
    "name": "ipython",
    "version": 3
   },
   "file_extension": ".py",
   "mimetype": "text/x-python",
   "name": "python",
   "nbconvert_exporter": "python",
   "pygments_lexer": "ipython3",
   "version": "3.7.3"
  }
 },
 "nbformat": 4,
 "nbformat_minor": 2
}
