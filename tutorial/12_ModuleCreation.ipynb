{
 "cells": [
  {
   "cell_type": "markdown",
   "metadata": {},
   "source": [
    "# Create your own Module\n",
    "\n",
    "## 1) Introduction\n",
    "\n",
    "The main interest of creating your own module is to reuse clever functions, since a module is a collection of functions or constants. In general, modules are order around a thematic, eg: algebra, statistics, ...\n",
    "\n",
    "## 2) Create a module\n",
    "\n",
    "In Python, the creation of modules is very simple, one just need to write a list of functions in a file and write it with the extension .py. Here is an example that we will call messages.py and is saved in the modules directory:"
   ]
  },
  {
   "cell_type": "code",
   "execution_count": null,
   "metadata": {},
   "outputs": [],
   "source": [
    "!more ../modules/messages.py"
   ]
  },
  {
   "cell_type": "markdown",
   "metadata": {},
   "source": [
    "The strings with 3 \" characters are not necessary but they are useful to document the software. By convention, constants are written in caps in Python, for instance DATE."
   ]
  },
  {
   "cell_type": "markdown",
   "metadata": {},
   "source": [
    "## 3) Using your module\n",
    "\n",
    "In order to call one of the module function, the module must be loaded first. This will work if the file is in the working directory or if it is in the directory pointed by the PYTHONPATH environment variable. It is then necessary to import the module as usual.\n",
    "\n",
    "For linux and macosx OS using a bash type shell, modifying the PYTHONPATH environment variable is done by typing the instruction in the shell:\n",
    "export PYTHONPATH=$PYTHONPATH:/path/to/my/module/\n",
    "This modification will only be valid in the current shell. If one want to make it permanent, one need to modify the .bashrc file.\n",
    "\n",
    "In Windows, one need a PowerShell and type the following command:\n",
    "env:PYTHONPATH += \";C:\\path/to/my/module/\"\n",
    "\n",
    "in a jupyter notebook, while it is not completely clear to me how, the following looks to work:\n",
    "- import os\n",
    "- os.environ['PYTHONPATH'] = \"$PYTHONPATH:/path/to/module\"\n",
    "- import sys\n",
    "- sys.path.append('./module')\n",
    "\n",
    "One can then check that it was done properly by typing:\n",
    "- for Linux/Mac os bash: echo \\$PYTHONPATH\n",
    "- for Windows: echo $env:PYTHONPATH"
   ]
  },
  {
   "cell_type": "code",
   "execution_count": null,
   "metadata": {},
   "outputs": [],
   "source": [
    "import os\n",
    "os.environ['PYTHONPATH'] = \"$PYTHONPATH:/Users/lhelary/Heidelberg_Python_Lecture_2019/modules/\"\n",
    "\n",
    "import sys\n",
    "sys.path.append('../modules/')\n"
   ]
  },
  {
   "cell_type": "code",
   "execution_count": null,
   "metadata": {},
   "outputs": [],
   "source": [
    "!echo $PYTHONPATH"
   ]
  },
  {
   "cell_type": "code",
   "execution_count": null,
   "metadata": {},
   "outputs": [],
   "source": [
    "import messages\n",
    "print(messages.hello(\"Joe\"))\n",
    "print(messages.ciao(\"Bill\"))\n",
    "messages.DATE"
   ]
  },
  {
   "cell_type": "markdown",
   "metadata": {},
   "source": [
    "Note that the first time a module is imported Python create a directory named __pycache__ that contains a file with an extension .pyc and which contain a precompiled version of the module.\n",
    "\n",
    "## 4) Docstrings:\n",
    "\n",
    "When writting a module, it is important to write dome documentation that explain what the module does, and how to use it. To achieve this purpose, one uses docstrings. These commands will be visible with the help() function for instance."
   ]
  },
  {
   "cell_type": "code",
   "execution_count": null,
   "metadata": {},
   "outputs": [],
   "source": [
    "help(messages)"
   ]
  },
  {
   "cell_type": "markdown",
   "metadata": {},
   "source": [
    "Python generate by default these help messages. One way to format these docstrings is as follow:"
   ]
  },
  {
   "cell_type": "code",
   "execution_count": null,
   "metadata": {},
   "outputs": [],
   "source": [
    "def multiply_numbers ( num1 , num2 ):\n",
    "    \"\"\" Multiply together two integers .\n",
    "    \n",
    "     Parameters\n",
    "     ----------\n",
    "     num1 : int\n",
    "     The first integer .\n",
    "     num2 : int\n",
    "     The second integer .\n",
    "\n",
    "     One can add more informations.\n",
    "     On many lines.\n",
    "\n",
    "     Returns\n",
    "     -------\n",
    "     int\n",
    "     Le product of the two numbers .\n",
    "     \"\"\"\n",
    "    return num1 * num2\n",
    "\n",
    "print(multiply_numbers(1,2))\n",
    "help(multiply_numbers)"
   ]
  },
  {
   "cell_type": "markdown",
   "metadata": {},
   "source": [
    "After the fonction definition, one find a general explanation of what the function does, then a parameters section, and a return section. In each of these sections the type used are described."
   ]
  },
  {
   "cell_type": "markdown",
   "metadata": {},
   "source": [
    "## 5) Exercises:\n",
    "\n",
    "- Create a custom_statistics.py module in the ../modules/ directory that will take lists as inputs and will contains functions to compute, the min value, the max value, the average, and the standard deviation.\n",
    "\n",
    "- Create a physical_constants.py module in the ../modules/ directory that will contain the list of the principal physics constants (https://en.wikipedia.org/wiki/Physical_constant).\n",
    "\n",
    "- Create a trigonometric_functions.py module that will contains the principal trigonometric functions (https://en.wikipedia.org/wiki/Trigonometric_functions)."
   ]
  },
  {
   "cell_type": "code",
   "execution_count": null,
   "metadata": {},
   "outputs": [],
   "source": []
  }
 ],
 "metadata": {
  "kernelspec": {
   "display_name": "Python 3",
   "language": "python",
   "name": "python3"
  },
  "language_info": {
   "codemirror_mode": {
    "name": "ipython",
    "version": 3
   },
   "file_extension": ".py",
   "mimetype": "text/x-python",
   "name": "python",
   "nbconvert_exporter": "python",
   "pygments_lexer": "ipython3",
   "version": "3.7.3"
  }
 },
 "nbformat": 4,
 "nbformat_minor": 2
}
