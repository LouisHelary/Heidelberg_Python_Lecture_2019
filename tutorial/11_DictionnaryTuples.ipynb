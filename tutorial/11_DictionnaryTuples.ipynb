{
 "cells": [
  {
   "cell_type": "markdown",
   "metadata": {},
   "source": [
    "# Dictionnary and Tuples\n",
    "\n",
    "## 1) Dictionnaries:\n",
    "\n",
    "Dictionnaries are non ordered lists (they can not be access via their index since they don't exist), byt are rather accessed by another element named key. For instance:"
   ]
  },
  {
   "cell_type": "code",
   "execution_count": null,
   "metadata": {},
   "outputs": [],
   "source": [
    "dic = {}\n",
    "dic [\"name\"] = \"girafe\"\n",
    "dic [\"size\"] = 5.0\n",
    "dic [\"weight\"] = 1100\n",
    "dic"
   ]
  },
  {
   "cell_type": "markdown",
   "metadata": {},
   "source": [
    "It is also possible to initialize a dictionnary in a single operation:"
   ]
  },
  {
   "cell_type": "code",
   "execution_count": null,
   "metadata": {},
   "outputs": [],
   "source": [
    "dic2={\"name\":\"dog\",\"size\":1.,\"weight\":50}\n",
    "dic2"
   ]
  },
  {
   "cell_type": "markdown",
   "metadata": {},
   "source": [
    "It is always possible to modify an object and add extra info on the dictionnary:"
   ]
  },
  {
   "cell_type": "code",
   "execution_count": null,
   "metadata": {},
   "outputs": [],
   "source": [
    "dic2[\"age\"]=12\n",
    "dic2"
   ]
  },
  {
   "cell_type": "markdown",
   "metadata": {},
   "source": [
    "If one want to acces a value associated to a key it is just needed to do:"
   ]
  },
  {
   "cell_type": "code",
   "execution_count": null,
   "metadata": {},
   "outputs": [],
   "source": [
    "dic2[\"age\"]"
   ]
  },
  {
   "cell_type": "markdown",
   "metadata": {},
   "source": [
    "It is possible to use other type of objects than strings (such as integer) for the keys. \n",
    "\n",
    "To iterate over all the elements of a dictionary one need to do:"
   ]
  },
  {
   "cell_type": "code",
   "execution_count": null,
   "metadata": {},
   "outputs": [],
   "source": [
    "dic2={\"name\":\"dog\",\"size\":1.,\"weight\":50}\n",
    "for key in dic2 :\n",
    "    print(key , dic2 [ key ])"
   ]
  },
  {
   "cell_type": "markdown",
   "metadata": {},
   "source": [
    "The methods .keys() and .values() contains the keys and values of the dictionnary, and are iterable objects. They are not lists, but can be casted in list objects:"
   ]
  },
  {
   "cell_type": "code",
   "execution_count": null,
   "metadata": {},
   "outputs": [],
   "source": [
    "print(dic2.keys())\n",
    "print(dic2.values())\n",
    "print(list(dic2.values()))\n"
   ]
  },
  {
   "cell_type": "markdown",
   "metadata": {},
   "source": [
    "Testing the presence of a key is possible using the \"in\" instruction:"
   ]
  },
  {
   "cell_type": "code",
   "execution_count": null,
   "metadata": {},
   "outputs": [],
   "source": [
    "if \"weight\" in dic2:\n",
    "    print(\"weight is a key in dic2\")\n",
    "\n",
    "if\"temp\" in dic2:\n",
    "    print(\"temp is a key in dic2\")"
   ]
  },
  {
   "cell_type": "markdown",
   "metadata": {},
   "source": [
    "If one create a list of dictionnaries, it is easy to construct a structure that looks like a database. This allows to play with complex structure than with lists:"
   ]
  },
  {
   "cell_type": "code",
   "execution_count": null,
   "metadata": {},
   "outputs": [],
   "source": [
    "dic= {\"name\":\"dog\",\"size\":1.,\"weight\":50}\n",
    "dic2={\"name\":\"cat\",\"size\":0.5,\"weight\":10}\n",
    "dic3={\"name\":\"bird\",\"size\":0.2,\"weight\":3}\n",
    "\n",
    "animals=[dic,dic2,dic3]\n",
    "animals\n"
   ]
  },
  {
   "cell_type": "markdown",
   "metadata": {},
   "source": [
    "## 2) Tuples:\n",
    "\n",
    "Tuples corresponds to a list that can not be modified once it has been instentiated. Practically they are created using \"()\" instead of \"[]\":"
   ]
  },
  {
   "cell_type": "code",
   "execution_count": null,
   "metadata": {},
   "outputs": [],
   "source": [
    "x=(1,2,3)\n",
    "print(type(x))\n",
    "y=[1,2,3]\n",
    "print(type(y))\n",
    "\n",
    "print(\"Tuple can be used as lists: \",x[0:2])\n",
    "\n",
    "x[2]=14 #But they can not be modified"
   ]
  },
  {
   "cell_type": "markdown",
   "metadata": {},
   "source": [
    "Declaration and indices works the same as with lists, the only difference is that they can not be modified. To create a Tuple of a single element it has to be declared as: tuple=(1,) (the comma is needed), to avoid confusion with a function.\n"
   ]
  },
  {
   "cell_type": "code",
   "execution_count": null,
   "metadata": {},
   "outputs": [],
   "source": [
    "x=(1,)\n",
    "type(x)"
   ]
  },
  {
   "cell_type": "markdown",
   "metadata": {},
   "source": [
    "It is possible to create a tuple from a list:"
   ]
  },
  {
   "cell_type": "code",
   "execution_count": null,
   "metadata": {},
   "outputs": [],
   "source": [
    "tuple ([1 ,2 ,3])"
   ]
  },
  {
   "cell_type": "markdown",
   "metadata": {},
   "source": [
    "## 3) Exercices:\n",
    "- Write a program which accepts a sequence of comma-separated numbers from console and generate a list and a tuple which contains every number.\n",
    "Suppose the following input is supplied to the program:\n",
    "34,67,55,33,12,98\n",
    "Then, the output should be:\n",
    "['34', '67', '55', '33', '12', '98']\n",
    "('34', '67', '55', '33', '12', '98')\n",
    "\n",
    "- You are required to write a program to sort the (name, age, height) tuples by ascending order where name is string, age and height are numbers. The tuples are input by console. The sort criteria is:\n",
    "    - 1: Sort based on name;\n",
    "    - 2: Then sort based on age;\n",
    "    - 3: Then sort by score.\n",
    "    - The priority is that name > age > score.\n",
    "    - If the following tuples are given as input to the program: Tom,19,80 John,20,90 Jony,17,91 Jony,17,93 Json,21,85 \n",
    "    - Then, the output of the program should be: [('John', '20', '90'), ('Jony', '17', '91'), ('Jony', '17', '93'), ('Json', '21', '85'), ('Tom', '19', '80')]\n",
    "\n",
    "- Define a function which can print a dictionary where the keys are numbers between 1 and 3 (both included) and the values are square of keys.\n"
   ]
  },
  {
   "cell_type": "code",
   "execution_count": null,
   "metadata": {},
   "outputs": [],
   "source": []
  }
 ],
 "metadata": {
  "kernelspec": {
   "display_name": "Python 3",
   "language": "python",
   "name": "python3"
  },
  "language_info": {
   "codemirror_mode": {
    "name": "ipython",
    "version": 3
   },
   "file_extension": ".py",
   "mimetype": "text/x-python",
   "name": "python",
   "nbconvert_exporter": "python",
   "pygments_lexer": "ipython3",
   "version": "3.7.3"
  }
 },
 "nbformat": 4,
 "nbformat_minor": 2
}
