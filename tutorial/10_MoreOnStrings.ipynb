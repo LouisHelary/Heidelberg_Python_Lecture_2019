{
 "cells": [
  {
   "cell_type": "markdown",
   "metadata": {},
   "source": [
    "# More on strings\n",
    "\n",
    "# 1) Introduction\n",
    "\n",
    "Strings are a special type of list. One can use most of list properties, with the exception that once they are instantiated they can not be modified."
   ]
  },
  {
   "cell_type": "code",
   "execution_count": null,
   "metadata": {},
   "outputs": [],
   "source": [
    "animals=\"python alligator\"\n",
    "print(animals)\n",
    "print(\"Look at list length:\",len(animals))\n",
    "print(\"substring          :\",animals[0:6]) #\n",
    "print(\"substrings         :\",animals[7:])\n",
    "print(\"single element     :\",animals[1])\n",
    "animals[1]=\"3\""
   ]
  },
  {
   "cell_type": "markdown",
   "metadata": {},
   "source": [
    "There are different special characters that we have already seen:\n",
    "- \\n gives a new line\n",
    "- \\t gives a tabulation\n",
    "- \\' will display a ' in the output string\n",
    "- \\\" will display a \" in the output string\n",
    "- \\\\ will display a \\ in the output string"
   ]
  },
  {
   "cell_type": "code",
   "execution_count": null,
   "metadata": {},
   "outputs": [],
   "source": [
    "print(\"A new line.\\nFollowed by a tab \\t and many other characters: \\', \\\", \\\\\")\n"
   ]
  },
  {
   "cell_type": "markdown",
   "metadata": {},
   "source": [
    "When one need to write in a shell over multiple lines, the usage of 3\": \"\"\" will keep the formatting, for instance:"
   ]
  },
  {
   "cell_type": "code",
   "execution_count": null,
   "metadata": {},
   "outputs": [],
   "source": [
    "x=\"\"\"cat\n",
    "dog\n",
    "4\"\"\"\n",
    "\n",
    "x"
   ]
  },
  {
   "cell_type": "markdown",
   "metadata": {},
   "source": [
    "## 2) Methods specific to strings:\n",
    "\n",
    "Here are a few methods specifics to strings:\n",
    "- .upper(): string in capital.\n",
    "- .lower(): string in lower cap.\n",
    "- .capitalize(): capitalize the first letter of a string.\n",
    "- .split(delimiter): cut the string in different substrings using the delimiter char. Default char is a white space \" \".\n",
    "- .find(str): find and return the position of str in the string.\n",
    "- .count(str): count the number of occurence of str in the string.\n",
    "- .replace(str1,str2): replace str1 by str2 in the string.\n",
    "- .startswith(str): verify if the string starts with str\n",
    "- .strip(): remove white space and new line at the beginning and end of the string.\n",
    "\n",
    "The whole list can be accessed using the dir() function."
   ]
  },
  {
   "cell_type": "code",
   "execution_count": null,
   "metadata": {},
   "outputs": [],
   "source": [
    "print(\"upper: good ->\",\"good\".upper())\n",
    "print(\"lower: GOOD ->\",\"GOOD\".lower())\n",
    "print(\"capitalize: good ->\",\"good\".capitalize())\n",
    "print(\"split(): I go to the school ->\",\"I go to the school\".split())\n",
    "print(\"find(go): I go to the school ->\",\"I go to the school\".find(\"go\"))\n",
    "print(\"count(o): I go to the school ->\",\"I go to the school\".count(\"o\"))\n",
    "print(\"replace(go, went): I go to the school ->\",\"I go to the school\".replace(\"go\",\"went\"))\n",
    "print(\"startswith(I): I go to the school ->\",\"I go to the school\".startswith(\"I\"))\n",
    "print(\"startswith(go): I go to the school ->\",\"I go to the school\".startswith(\"go\"))\n",
    "print(\"strip(I):      I go to the school     \\n \\n \\n  -> \",\"      I go to the school     \\n   \".strip())\n"
   ]
  },
  {
   "cell_type": "markdown",
   "metadata": {},
   "source": [
    "## 3) Extracting numerical values from a string:\n",
    "\n",
    "A common task in Python consist to read a string of characters that come from a file, for instance, and extracts several information out of it.\n",
    "\n",
    "For instance let's consider the following string, where we want to extract the different numbers and add them together:"
   ]
  },
  {
   "cell_type": "code",
   "execution_count": null,
   "metadata": {},
   "outputs": [],
   "source": [
    "val = \"3.14 2.71 operator\"\n",
    "lst_val=val.split()\n",
    "print(lst_val)\n",
    "\n",
    "summed_val=lst_val[0]+lst_val[1] #This is not correct, since both are strings\n",
    "print(summed_val)\n",
    "\n",
    "summed_val=float(lst_val[0])+float(lst_val[1]) #Both numbers needs to be casted in floats.\n",
    "print(summed_val)"
   ]
  },
  {
   "cell_type": "markdown",
   "metadata": {},
   "source": [
    "## 4) Converting a list of character in a string:\n",
    "\n",
    "It is possible to easily merge a list of characters in a string, using the .join() method:\n"
   ]
  },
  {
   "cell_type": "code",
   "execution_count": null,
   "metadata": {},
   "outputs": [],
   "source": [
    "seq = [\"A\", \"T\", \"G\", \"A\", \"T\"]\n",
    "seq1=\"-\".join(seq)\n",
    "seq2=\" \".join(seq)\n",
    "seq3=\"\".join(seq)\n",
    "\n",
    "print(seq)\n",
    "print(seq1)\n",
    "print(seq2)\n",
    "print(seq3)"
   ]
  },
  {
   "cell_type": "markdown",
   "metadata": {},
   "source": [
    "## 5) Exercises:\n",
    "- From the following list: animals = [\"Bird\", \"Lion\", \"Tiger\", \"Porc\"] ,with a loop print for each element it's size.\n",
    "- Define a function that can convert a integer into a string and print it in console.\n",
    "- Define a function that can receive two integral numbers in string form and compute their sum and then print it in console. \n",
    "- Define a function that can receive two integral numbers in string form and compute their sum and then print it in console."
   ]
  },
  {
   "cell_type": "code",
   "execution_count": null,
   "metadata": {},
   "outputs": [],
   "source": []
  }
 ],
 "metadata": {
  "kernelspec": {
   "display_name": "Python 3",
   "language": "python",
   "name": "python3"
  },
  "language_info": {
   "codemirror_mode": {
    "name": "ipython",
    "version": 3
   },
   "file_extension": ".py",
   "mimetype": "text/x-python",
   "name": "python",
   "nbconvert_exporter": "python",
   "pygments_lexer": "ipython3",
   "version": "3.7.3"
  }
 },
 "nbformat": 4,
 "nbformat_minor": 2
}
