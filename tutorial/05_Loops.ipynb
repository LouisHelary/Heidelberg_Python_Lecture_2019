{
 "cells": [
  {
   "cell_type": "markdown",
   "metadata": {},
   "source": [
    "# Loops and comparisons:"
   ]
  },
  {
   "cell_type": "markdown",
   "metadata": {},
   "source": [
    "## 1) For loops:"
   ]
  },
  {
   "cell_type": "markdown",
   "metadata": {},
   "source": [
    "With list, it is often needed to repeat the same operation on each element. This is achieved using a for loop, as described bellow:\n"
   ]
  },
  {
   "cell_type": "code",
   "execution_count": null,
   "metadata": {},
   "outputs": [],
   "source": [
    "animals = [\"Bird\", \"Lion\", \"Tiger\", \"Porc\"]\n",
    "for animal in animals:\n",
    "    print(animal)"
   ]
  },
  {
   "cell_type": "markdown",
   "metadata": {},
   "source": [
    "The variable animal is taking the successive value of each element in the list animals. To create a loop, the general structure is: \"for variable in list:\". The next paragraphis indented as it is a block of instructions, this is the code that will be repeated on each element of the list. If the indentation block is forgotten, python return an error:"
   ]
  },
  {
   "cell_type": "code",
   "execution_count": null,
   "metadata": {},
   "outputs": [],
   "source": [
    "for animal in animals:\n",
    "print(animal)"
   ]
  },
  {
   "cell_type": "markdown",
   "metadata": {},
   "source": [
    "It is also possible to run the loop over a subset of the list, using the syntax introduced previously:"
   ]
  },
  {
   "cell_type": "code",
   "execution_count": null,
   "metadata": {},
   "outputs": [],
   "source": [
    "for animal in animals[:2]:\n",
    "    print(animal)"
   ]
  },
  {
   "cell_type": "markdown",
   "metadata": {},
   "source": [
    "To loop over a list of numbers created on the fly it is possible to use the range() function, we have seen before. The notation is simplified and can be used as follow:"
   ]
  },
  {
   "cell_type": "code",
   "execution_count": null,
   "metadata": {},
   "outputs": [],
   "source": [
    "for i in range(4):\n",
    "    print(i)"
   ]
  },
  {
   "cell_type": "markdown",
   "metadata": {},
   "source": [
    "Using range() and the numbers created, it is possible to access the elements of a list one by one their index:"
   ]
  },
  {
   "cell_type": "code",
   "execution_count": null,
   "metadata": {},
   "outputs": [],
   "source": [
    "for i in range(4):\n",
    "    print (\"The animal {} is a {}\". format (i, animals[i ]))"
   ]
  },
  {
   "cell_type": "markdown",
   "metadata": {},
   "source": [
    "It is also possible to use the function enumerate(lst) to iterate directly on the elements and the indices:\n"
   ]
  },
  {
   "cell_type": "code",
   "execution_count": null,
   "metadata": {},
   "outputs": [],
   "source": [
    "for i, animal in enumerate ( animals ):\n",
    "    print (\"The animal {} is a {}\". format (i, animal ))"
   ]
  },
  {
   "cell_type": "markdown",
   "metadata": {},
   "source": [
    "It is possible to construct a list by iteration for instance:"
   ]
  },
  {
   "cell_type": "code",
   "execution_count": null,
   "metadata": {},
   "outputs": [],
   "source": [
    "list_numbers=[]\n",
    "for i in range(10):\n",
    "#     print(i)\n",
    "    list_numbers.append(i)\n",
    "print(list_numbers)\n",
    "\n",
    "\n",
    "import string\n",
    "alphabets=list(string.ascii_lowercase)\n",
    "output=[] # output list\n",
    "for a in alphabets:\n",
    "    output.append(a)\n",
    "print(output)"
   ]
  },
  {
   "cell_type": "markdown",
   "metadata": {},
   "source": [
    "## 2) Comparisons:\n",
    "\n",
    "Before switching to the while loops, let's see the comparisons between two elements. Python has different operators to compare variables:\n",
    "- \"==\" is equal to\n",
    "- \"!=\" is different from\n",
    "- \">\" greather than\n",
    "- \">=\" greather or equal to\n",
    "- \"<\" less than\n",
    "- \"<=\" less or equal to\n",
    "\n",
    "The result of a comparison is a boolean variable. For example:"
   ]
  },
  {
   "cell_type": "code",
   "execution_count": null,
   "metadata": {},
   "outputs": [],
   "source": [
    "x=5\n",
    "print(x==5)\n",
    "print(x>10)\n",
    "print(x<10)"
   ]
  },
  {
   "cell_type": "markdown",
   "metadata": {},
   "source": [
    "For strings the operators == and != allow to make a direct comparison of their contents, but the other operators \">\",\">=\",\"<\",\"<=\" also work and will test the alphabetic order of the strings. For instance: "
   ]
  },
  {
   "cell_type": "code",
   "execution_count": null,
   "metadata": {},
   "outputs": [],
   "source": [
    "print(\"a\"<\"b\")\n",
    "print(\"ba\"<\"ab\")\n"
   ]
  },
  {
   "cell_type": "markdown",
   "metadata": {},
   "source": [
    "## 3) While loops:\n",
    "\n",
    "An alternative to the for loops is the while loop. The idea is that an instruction is executed while it will be true. For instance:"
   ]
  },
  {
   "cell_type": "code",
   "execution_count": null,
   "metadata": {},
   "outputs": [],
   "source": [
    "i=0\n",
    "while i<5:\n",
    "    print(i)\n",
    "    i+=1\n"
   ]
  },
  {
   "cell_type": "markdown",
   "metadata": {},
   "source": [
    "Again the instruction block needs to be indented. To run a while loop, one needs to intialize the iterating variable, test this variable, and update it. One of the common mistakes with while loop lead to an infinite loops. In a Python shell it is possible to stop it pressing simultaneously Ctrl and C. In jupyter note book just press stop to stop the cell. \n",
    "\n",
    "The while loop combined to the input() function can be used to ask someone to enter a value, see the following example:"
   ]
  },
  {
   "cell_type": "code",
   "execution_count": null,
   "metadata": {},
   "outputs": [],
   "source": [
    "i=0\n",
    "while i<10:\n",
    "    answer=input(\"type a number greather than 10:\")\n",
    "    i=int(answer)"
   ]
  },
  {
   "cell_type": "markdown",
   "metadata": {},
   "source": [
    "## 4) Examples:\n",
    "\n",
    "- Display the elements of the color list [\"red\", \"blue\", \"green\", \"black\",\"yellow\"] using 3 differents methods, with the for and while loops.\n",
    "\n",
    "- Display all numbers from 0 to 10 in a single line.\n",
    "\n",
    "- Compute the mean value of the following list [14, 9, 6, 8, 12]. Display this value with 2 decimals.\n",
    "\n",
    "- Display a triangle of a single character (for instance: \"*\") on 10 lines. \n",
    "\n",
    "- Display the inverted triangle for the same characters on 10 lines.\n",
    "\n",
    "- Display a pyramid on 10 lines.\n",
    "\n",
    "- Use loops to compute the matrix product of the following 3*2 times 2*3 matrices:\n",
    "\n",
    "|    |    |\n",
    "|----|----|\n",
    "| 10 | 12 |\n",
    "|  4 | 9  |\n",
    "|  34| 43 |\n",
    "\n",
    "|    |    |    |\n",
    "|----|----|----|\n",
    "|9   |12  | 4  |\n",
    "|28  |42  |  94|\n",
    "\n",
    "- Display all the elements of the resulting matrix and compute and display its trace."
   ]
  },
  {
   "cell_type": "code",
   "execution_count": null,
   "metadata": {},
   "outputs": [],
   "source": []
  }
 ],
 "metadata": {
  "kernelspec": {
   "display_name": "Python 3",
   "language": "python",
   "name": "python3"
  },
  "language_info": {
   "codemirror_mode": {
    "name": "ipython",
    "version": 3
   },
   "file_extension": ".py",
   "mimetype": "text/x-python",
   "name": "python",
   "nbconvert_exporter": "python",
   "pygments_lexer": "ipython3",
   "version": "3.7.3"
  }
 },
 "nbformat": 4,
 "nbformat_minor": 2
}
