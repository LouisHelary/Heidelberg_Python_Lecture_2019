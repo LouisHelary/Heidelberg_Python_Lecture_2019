{
 "cells": [
  {
   "cell_type": "markdown",
   "metadata": {},
   "source": [
    "# Modules\n",
    "\n",
    "## 1) Definition:\n",
    "\n",
    "Modules are libraries that contains many functions that can be reused without having to code them. There are many modules that exist, and many more can be downloaded from the web. A non-exhaustive list, but containing more than 300 modules, can be found at:\n",
    "https://docs.python.org/3/py-modindex.html\n",
    "\n",
    "It is easy to call a module in Python, as an example let's call the math and the random module that we have just called before:"
   ]
  },
  {
   "cell_type": "code",
   "execution_count": null,
   "metadata": {},
   "outputs": [],
   "source": [
    "import math\n",
    "print(math.cos(math.pi/2))\n",
    "print(math.sin(math.pi/2))"
   ]
  },
  {
   "cell_type": "code",
   "execution_count": null,
   "metadata": {},
   "outputs": [],
   "source": [
    "import random\n",
    "random.randint(0,10)"
   ]
  },
  {
   "cell_type": "markdown",
   "metadata": {},
   "source": [
    "It is also possible to import only a single function from a module, for instance:"
   ]
  },
  {
   "cell_type": "code",
   "execution_count": null,
   "metadata": {},
   "outputs": [],
   "source": [
    "from random import randint\n",
    "randint(0,10)"
   ]
  },
  {
   "cell_type": "markdown",
   "metadata": {},
   "source": [
    "With the keyword from, one can only import a specific module. If one want to import all the function from a module, one needs to use the joker symbol \"*\": "
   ]
  },
  {
   "cell_type": "code",
   "execution_count": null,
   "metadata": {},
   "outputs": [],
   "source": [
    "from math import *\n",
    "cos(pi/2)"
   ]
  },
  {
   "cell_type": "markdown",
   "metadata": {},
   "source": [
    "It is less confusing however to load the whole module and call the functions one by one. It is also possible to load a function as an alias:"
   ]
  },
  {
   "cell_type": "code",
   "execution_count": null,
   "metadata": {},
   "outputs": [],
   "source": [
    "import random as rand\n",
    "rand.randint(1,10)"
   ]
  },
  {
   "cell_type": "markdown",
   "metadata": {},
   "source": [
    "In this example the functions of the random module are accessible via the alis rand. \n",
    "It is possible to remove a module from the memory by calling the del instruction:\n"
   ]
  },
  {
   "cell_type": "code",
   "execution_count": null,
   "metadata": {},
   "outputs": [],
   "source": [
    "import random\n",
    "random.randint(0 ,10)\n",
    "del random\n",
    "random.randint(0 ,10)\n"
   ]
  },
  {
   "cell_type": "markdown",
   "metadata": {},
   "source": [
    "## 2) Getting help with modules\n",
    "\n",
    "Given the high amount of modules available it is not always trivial to know what can be done with a module. To obtain some information, one can use the help() command."
   ]
  },
  {
   "cell_type": "code",
   "execution_count": null,
   "metadata": {},
   "outputs": [],
   "source": [
    "import random\n",
    "help(random)"
   ]
  },
  {
   "cell_type": "markdown",
   "metadata": {},
   "source": [
    "The help() command is more general and can be used with any objects loaded in the memory:"
   ]
  },
  {
   "cell_type": "code",
   "execution_count": null,
   "metadata": {},
   "outputs": [],
   "source": [
    "t=[1,2,3]\n",
    "help(t)"
   ]
  },
  {
   "cell_type": "markdown",
   "metadata": {},
   "source": [
    "To know which functions are available from a module, one can use the dir() function:\n"
   ]
  },
  {
   "cell_type": "code",
   "execution_count": null,
   "metadata": {},
   "outputs": [],
   "source": [
    "import random\n",
    "dir(random)"
   ]
  },
  {
   "cell_type": "markdown",
   "metadata": {},
   "source": [
    "## 3) A few interesting modules\n",
    "\n",
    "Among the popular modules are:\n",
    "- math: basic mathematical functions and constants.\n",
    "- random: generation of random numbers.\n",
    "- sys: interaction with the Python interpreter.\n",
    "- os: interaction with the operating system.\n",
    "- time: timing information.\n",
    "- datetime: date information.\n",
    "- re: regular expressions.\n",
    "- NumPy: vector and matrix manipulations.\n",
    "- matplotlib: graphics and histograms.\n",
    "- pandas: data analysis.\n",
    "- scipy: data analysis and data fitting.\n",
    "\n",
    "Let's take a look at a few of them:\n",
    "### 3.1) sys module: \n",
    "\n",
    "The sys module contains functions and variables that are specific to the Python interpreter. It is particularly interesting to get access to arguments that are passed when one execute a "
   ]
  },
  {
   "cell_type": "code",
   "execution_count": null,
   "metadata": {},
   "outputs": [],
   "source": [
    "! python ../python/sys.py salut girafe 42"
   ]
  },
  {
   "cell_type": "markdown",
   "metadata": {},
   "source": [
    "The script return the content of the sys.argv list, which contains all the argument used in the command line, including the name of the python script itself. It is therefore possible to access the argument with sys.argv[n], with n>0. In the sys module it is also possible to use the sys.exit() function to exit the python interpreter.\n",
    "\n",
    "For instance look at the content of the following file (python/test_sys.py) using the more linux command line:"
   ]
  },
  {
   "cell_type": "code",
   "execution_count": null,
   "metadata": {},
   "outputs": [],
   "source": [
    "!more ../python/test_sys.py"
   ]
  },
  {
   "cell_type": "code",
   "execution_count": null,
   "metadata": {},
   "outputs": [],
   "source": [
    "!python ../python/test_sys.py"
   ]
  },
  {
   "cell_type": "code",
   "execution_count": null,
   "metadata": {},
   "outputs": [],
   "source": [
    "!python ../python/test_sys.py arg1"
   ]
  },
  {
   "cell_type": "markdown",
   "metadata": {},
   "source": [
    "One can use the argument in a program. For instance look at the file python/count_lines.py and execute it on the data/animals.txt file:"
   ]
  },
  {
   "cell_type": "code",
   "execution_count": null,
   "metadata": {},
   "outputs": [],
   "source": [
    "!python ../python/count_lines.py ../data/animals.txt"
   ]
  },
  {
   "cell_type": "markdown",
   "metadata": {},
   "source": [
    "### 3.2) os module:\n",
    "\n",
    "The os module allows interactions with the operating system. One can give three different useful commands of this module:\n",
    "- os.path.exists(\"filename\") checks that filename exist.\n",
    "- os.getcwd() returns the current directory where the Python shell is running.\n",
    "- os.listdir(\"path\") returns the content of the directory path."
   ]
  },
  {
   "cell_type": "code",
   "execution_count": null,
   "metadata": {},
   "outputs": [],
   "source": [
    "import os\n",
    "\n",
    "if os.path.exists (\"toto.pdb\"):\n",
    "    print (\"toto.pdb exist\")\n",
    "else:\n",
    "    print (\"toto.pdb does not exist\")\n",
    "    \n",
    "print(os.getcwd())\n",
    "\n",
    "print(os.listdir(\"../data/\"))"
   ]
  },
  {
   "cell_type": "markdown",
   "metadata": {},
   "source": [
    "### 3.2) re module:\n",
    "\n",
    "The re module allows to do regular expression (regex) searches in a string. For instance:"
   ]
  },
  {
   "cell_type": "code",
   "execution_count": null,
   "metadata": {},
   "outputs": [],
   "source": [
    "import re\n",
    "animals = \"python anaconda tiger\"\n",
    "re.search (\"tiger\", animals )\n",
    "\n",
    "if re.search (\"tiger\", animals ):\n",
    "    print (\" OK \")"
   ]
  },
  {
   "cell_type": "markdown",
   "metadata": {},
   "source": [
    "The following characters are important in regex searches:\n",
    "- \"^\": corresponds to the beginning of the regular expression.\n",
    "    - example: ^ATG is found in ATGCG but not in CCATG.\n",
    "- \"\\$\": corresponds to the end of the regular expression.\n",
    "    - example: $ATG is found in TJATG but not in TJATGKD.\n",
    "- \".\": corresponds to any characters.\n",
    "    - example: A.G is found in ARG and AJG, etc..\n",
    "- \"[ABC]\": corresponds to the character A or B or C.\n",
    "    - example: T[ABC]G is found in TAG, TBG or TCG, but not in TG.\n",
    "- \"[A-Z]\": corresponds to any capitalized characters from A to Z.\n",
    "    - example: C[A-Z]T is found in CAT.\n",
    "- \"[a-z]\": corresponds to any characters from a to z.\n",
    "- \"[0-9]\": corresponds to any numbers.\n",
    "- \"[A-Za-z0-9]\": corresponds to any characters.\n",
    "- \"[^AB]\": corresponds to any characters but A and B.\n",
    "- \"\\\": corresponds to a protected character. \n",
    "    - example: A\\.G is found in A.G and not to search for any characters in A.G\n",
    "- \"*\": corresponds to 0 to n times the previous characters in brackets.\n",
    "    - example: A(CG)*T is found in AT, ACGT, ACGCGT.\n",
    "- \"+\": corresponds to 1 to n times the previous characters in brackets.\n",
    "    - example: A(CG)*T is found in ACGT, ACGCGT.\n",
    "- \"?\": corresponds to 0 to 1 times the previous characters in brackets.\n",
    "    - example: A(CG)?T is found in ACGT, ACGCGT.\n",
    "- \"{n}\": corresponds to n times the previous characters in brackets.\n",
    "    - example: A(CG){2}T is found in ACGCGT but not in ACGT, ACGCGCGT or ACGCG.\n",
    "- \"{n,m}\": corresponds to n to m times the previous characters in brackets.\n",
    "    - example: A(C){2,4}T is found in ACCT, ACCCT et ACCCCT but not in ACT, ACCCCCT or ACCC.\n",
    "- \"{n,}\": corresponds to at least n times the previous characters in brackets.\n",
    "    - example: A(C){2,}T is found in ACCT, ACCCT et ACCCCT but not in ACT or ACCC.\n",
    "- \"{,m}\": corresponds to at most m times the previous characters in brackets.\n",
    "    - example: A(C){,2}T is found in AT, ACT et ACCT but not in ACCCT or ACC.\n",
    "- \"(CG|TT)\": corresponds to the chain of characters CG or TT.\n",
    "    - example: A(CG|TT)C is found in ACGC or ATTC.\n",
    "    \n",
    "- \"\\d\": corresponds to any numbers or is equivalent to [0-9].\n",
    "- \"\\w\": corresponds to any characters or is equivanet to [0-9A-Za-z_].\n",
    "- \"\\s\": corresponds to whitespace.\n",
    "- And the classic \"\\t\", \"\\n\" for tabulation and new line. \n",
    "\n",
    "There are many more methods that can be used:\n",
    "- match(): return true if the regex is found at the beginning of the string.\n",
    "- fullmatch(): return true if the regex fully match the entire expression tested.\n",
    "- compile(): will compile return a compiled regex that can be run faster on large list of caracters.\n",
    "- findall(): return a list of the element corresponding to the search.\n",
    "- sub(): allow to replace the expression in the chain.\n",
    "\n",
    "Some example:"
   ]
  },
  {
   "cell_type": "code",
   "execution_count": null,
   "metadata": {},
   "outputs": [],
   "source": [
    "animals = \"python anaconda tiger\"\n",
    "print(\"match():\",bool(re.match(\"python\",animals)))\n",
    "print(\"fullmatch():\",bool(re.fullmatch(\"tiger\",animals)))\n",
    "regex=re.compile(\"tiger\")\n",
    "print(\"compiled search():\",bool(regex.search(animals)))\n",
    "\n",
    "regex2 = re.compile(\"[0-9]+\\.[0-9]+\")\n",
    "result = regex2.findall(\" pi is equal to 3.14 and e is equal to 2.72\")\n",
    "print(\"findall():\",result)\n",
    "\n",
    "regex2.sub (\"something\",\" pi is equal to 3.14 and e is equal to 2.72\")\n"
   ]
  },
  {
   "cell_type": "markdown",
   "metadata": {},
   "source": [
    "## 4) Exercise\n",
    "\n",
    "- Display on the same line, all numbers from 10 to 20 and their square root with up to 3 decimals.\n",
    "- Display the name and content of the running directory. Determine the number of files in the data and python directories.\n",
    "- Display numbers from 1 to 10 with 1 second of interval between each display.\n",
    "- Create a list with 10 random float numbers drawn from 0 to 1.\n",
    "- Improve the python/count_lines.py macro to return an error message and exit if the file provided does not exist.\n",
    "- Compute the pi number using a Monte Carlo method:\n",
    "    - Let's start from a circle of radius $R=1$, which is in a square of size $s=2$ in a side. \n",
    "        - The circle surface is $\\pi R^{2}=\\pi$ while the square surface is $2R^{2}=4$.\n",
    "    - If one draw N random points, using a uniform distribution, inside the square the probability that these points are in the circle is:\n",
    "        - $p=\\frac{\\mathrm{surface\\ circle}}{\\mathrm{surface\\ square}}=\\frac{pi}{4}$.\n",
    "        - If n trials out of the total N are in the circle $p=\\frac{n}{N}$ or $\\pi=4\\times{}\\frac{n}{N}$\n",
    "        \n",
    "    - In detail:\n",
    "        - Draw the x and y coordinates of a single point between -1 and 1 using the uniform() function of the random module, and store these coordinates (one couple x and y on each lines) with 6 digits in a file named data/pi_mc_coordinates.txt.\n",
    "        - Compute the distance ($d=\\sqrt{(x_b-x_a)^2+(y_b-y_a)^2}$) between the center of the circle (coordinates (0,0)) and the point.\n",
    "        - Determine if this point is within the circle area (d<1), if it is the case increment n.\n",
    "        - Compute pi for 100, 1000, 10000 iterations and compare these to the value returned by the math module.\n",
    "\n"
   ]
  },
  {
   "cell_type": "code",
   "execution_count": null,
   "metadata": {},
   "outputs": [],
   "source": []
  }
 ],
 "metadata": {
  "kernelspec": {
   "display_name": "Python 3",
   "language": "python",
   "name": "python3"
  },
  "language_info": {
   "codemirror_mode": {
    "name": "ipython",
    "version": 3
   },
   "file_extension": ".py",
   "mimetype": "text/x-python",
   "name": "python",
   "nbconvert_exporter": "python",
   "pygments_lexer": "ipython3",
   "version": "3.7.3"
  }
 },
 "nbformat": 4,
 "nbformat_minor": 2
}
