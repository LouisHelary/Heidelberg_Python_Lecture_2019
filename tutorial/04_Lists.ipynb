{
 "cells": [
  {
   "cell_type": "markdown",
   "metadata": {},
   "source": [
    "# Lists"
   ]
  },
  {
   "cell_type": "markdown",
   "metadata": {},
   "source": [
    "## 1) Definition\n",
    "\n",
    "A list is a structure that different data elements. Python allows to declare lists with different types. A list is declared within the following characters \"[]\", the values are separated using commas. For instance:"
   ]
  },
  {
   "cell_type": "code",
   "execution_count": null,
   "metadata": {},
   "outputs": [],
   "source": [
    "animals = [\"Bird\", \"Lion\", \"Tiger\", \"Porc\"]\n",
    "size=[3.3,10.2,12.3,14.4]\n",
    "mixture=[\"Mouse\", 10.2, \"Tiger\", 43]\n",
    "\n",
    "print (animals)\n",
    "print (size)\n",
    "print (mixture)"
   ]
  },
  {
   "cell_type": "markdown",
   "metadata": {},
   "source": [
    "## 2) Usage\n",
    "\n",
    "The different elements of a list can be called by their position (or index) in the list. In Python the element index starts at 0 and ends at n-1."
   ]
  },
  {
   "cell_type": "code",
   "execution_count": null,
   "metadata": {},
   "outputs": [],
   "source": [
    "print(animals)\n",
    "print(0,animals[0])\n",
    "print(1,animals[1])\n",
    "print(2,animals[2])\n",
    "print(3,animals[3])\n",
    "print(4,animals[4])"
   ]
  },
  {
   "cell_type": "markdown",
   "metadata": {},
   "source": [
    "Since there is no 4th element, Python return an error message. It is also possible to use negative indices in which case the last element of the list has index -1:"
   ]
  },
  {
   "cell_type": "code",
   "execution_count": null,
   "metadata": {},
   "outputs": [],
   "source": [
    "print (\"Animal type   : {:>4s}, {:>4s}, {:>4s}, {:>4s}\". format (animals[0],animals[1],animals[2],animals[3]))\n",
    "print (\"Positive index: {:>4s}, {:>4s}, {:>4s}, {:>4s}\".format(\"0\",\"1\",\"2\",\"3\"))\n",
    "print (\"Negative index: {:>4s}, {:>4s}, {:>4s}, {:>4s}\".format(\"-4\",\"-3\",\"-2\",\"-1\"))\n",
    "#print (\"Animal type   : {:>4s}, {:>4s}, {:>4s}, {:>4s}\". format (animals[-4],animals[-3],animals[-2],animals[-1]))"
   ]
  },
  {
   "cell_type": "markdown",
   "metadata": {},
   "source": [
    "## 3) Operations\n",
    "\n",
    "Lists can be concatenated using the + operator, or duplicated using the * operator:"
   ]
  },
  {
   "cell_type": "code",
   "execution_count": null,
   "metadata": {},
   "outputs": [],
   "source": [
    "print(animals+size)\n",
    "print(animals*3)"
   ]
  },
  {
   "cell_type": "markdown",
   "metadata": {},
   "source": [
    "One can add a single element at the end of a list using the .append() method, for instance if one start from an empty list:"
   ]
  },
  {
   "cell_type": "code",
   "execution_count": null,
   "metadata": {},
   "outputs": [],
   "source": [
    "a=[]\n",
    "print (a)\n",
    "a+=[16]\n",
    "print (a)\n",
    "a+=[12]\n",
    "print (a)\n",
    "a.append(13)\n",
    "print (a)\n",
    "a.append(3)\n",
    "print(a)"
   ]
  },
  {
   "cell_type": "markdown",
   "metadata": {},
   "source": [
    "The .insert(idx,var) method insert variable var at index idx:"
   ]
  },
  {
   "cell_type": "code",
   "execution_count": null,
   "metadata": {},
   "outputs": [],
   "source": [
    "a.insert(2,11)\n",
    "print(a)"
   ]
  },
  {
   "cell_type": "markdown",
   "metadata": {},
   "source": [
    "The del list[idx] operator delete the variable present at index idx in list. Note del is a general Python instruction which is usable for more than just list so it does not take brackets:"
   ]
  },
  {
   "cell_type": "code",
   "execution_count": null,
   "metadata": {},
   "outputs": [],
   "source": [
    "del a[2]\n",
    "print(a)"
   ]
  },
  {
   "cell_type": "markdown",
   "metadata": {},
   "source": [
    "The .remove(var) method remove the variable var (once) if it is present in the list (if not it return a crash):"
   ]
  },
  {
   "cell_type": "code",
   "execution_count": null,
   "metadata": {},
   "outputs": [],
   "source": [
    "a.insert(2,11)\n",
    "a.insert(2,11)\n",
    "a.remove(11)\n",
    "print(a)"
   ]
  },
  {
   "cell_type": "markdown",
   "metadata": {},
   "source": [
    "The .sort() method sort the list:"
   ]
  },
  {
   "cell_type": "code",
   "execution_count": null,
   "metadata": {},
   "outputs": [],
   "source": [
    "a.sort()\n",
    "print(a)"
   ]
  },
  {
   "cell_type": "markdown",
   "metadata": {},
   "source": [
    "The .reverse() method reverse the order of the list element:"
   ]
  },
  {
   "cell_type": "code",
   "execution_count": null,
   "metadata": {},
   "outputs": [],
   "source": [
    "a.reverse()\n",
    "print(a)"
   ]
  },
  {
   "cell_type": "markdown",
   "metadata": {},
   "source": [
    "The .count(var) method count the number of time var appears in the elements of the list:"
   ]
  },
  {
   "cell_type": "code",
   "execution_count": null,
   "metadata": {},
   "outputs": [],
   "source": [
    "a.count(11)"
   ]
  },
  {
   "cell_type": "markdown",
   "metadata": {},
   "source": [
    "To copy a 1dimension list, one has to be careful, indeed:"
   ]
  },
  {
   "cell_type": "code",
   "execution_count": null,
   "metadata": {},
   "outputs": [],
   "source": [
    "x = [1 ,2 ,3]\n",
    "y=x\n",
    "print(y)\n",
    "x[1]=-15\n",
    "print(x)\n",
    "print(y)"
   ]
  },
  {
   "cell_type": "markdown",
   "metadata": {},
   "source": [
    "if one modify x, also impacts y. In this case one have just made a reference to the list x with y and not a copy! If one want to copy the list, it has to be done explicitely using x[:] or using the list() operator:"
   ]
  },
  {
   "cell_type": "code",
   "execution_count": null,
   "metadata": {},
   "outputs": [],
   "source": [
    "x = [1 ,2 ,3]\n",
    "y = x[:]\n",
    "x[1]=-15\n",
    "print(x)\n",
    "print(y)\n",
    "\n",
    "z=list(x)\n",
    "x[1]=-12\n",
    "print(x)\n",
    "print(z)\n"
   ]
  },
  {
   "cell_type": "markdown",
   "metadata": {},
   "source": [
    "If one want to make a copy of a multidimensional list one has to use the function deepcopy() of the copy module (we will come back to the module later on):"
   ]
  },
  {
   "cell_type": "code",
   "execution_count": null,
   "metadata": {},
   "outputs": [],
   "source": [
    "import copy\n",
    "x = [[1 , 2], [3, 4]]\n",
    "y = copy . deepcopy (x)\n",
    "x [1][1] = 99\n",
    "print(x)\n",
    "print(y)\n"
   ]
  },
  {
   "cell_type": "markdown",
   "metadata": {},
   "source": [
    "## 4) Sublists\n",
    "It is fairly easy to get a sublist from the list:\n"
   ]
  },
  {
   "cell_type": "code",
   "execution_count": null,
   "metadata": {},
   "outputs": [],
   "source": [
    "animals = [\"Bird\", \"Lion\", \"Tiger\", \"Porc\"]\n",
    "print(animals [0:2])\n",
    "print(animals [1:2])\n",
    "print(animals [:])\n",
    "print(animals [1:-1])\n"
   ]
  },
  {
   "cell_type": "markdown",
   "metadata": {},
   "source": [
    "If no indices are writen before or after \":\", Python uses by default all the elements from the beginning or until the end of the list. Once can also use a step size adding another \":\", for instance:"
   ]
  },
  {
   "cell_type": "code",
   "execution_count": null,
   "metadata": {},
   "outputs": [],
   "source": [
    "print( animals[0:3:2])\n",
    "print( animals[::1])\n",
    "print( animals[::2])\n",
    "print( animals[::3])"
   ]
  },
  {
   "cell_type": "markdown",
   "metadata": {},
   "source": [
    "To summarise the creation of a sublist is done using: lst[beg:end:step]."
   ]
  },
  {
   "cell_type": "markdown",
   "metadata": {},
   "source": [
    "## 5) Functions len() and range()\n",
    "\n",
    "The function len() allow to know the length of a list, or the number of elements. For instance:"
   ]
  },
  {
   "cell_type": "code",
   "execution_count": null,
   "metadata": {},
   "outputs": [],
   "source": [
    "len(animals)"
   ]
  },
  {
   "cell_type": "markdown",
   "metadata": {},
   "source": [
    "The function list(range(beg,end,step)) allow to generate a list of number in the range beg, end-1 with a step-size step. For instance:"
   ]
  },
  {
   "cell_type": "code",
   "execution_count": null,
   "metadata": {},
   "outputs": [],
   "source": [
    "print(list(range(0,10,1)))\n",
    "\n",
    "print(list(range(0,10,2)))\n"
   ]
  },
  {
   "cell_type": "markdown",
   "metadata": {},
   "source": [
    "## 6) Multidimensionnal lists:\n",
    "\n",
    "It is possible to define multi dimensional lists. For instance:"
   ]
  },
  {
   "cell_type": "code",
   "execution_count": null,
   "metadata": {},
   "outputs": [],
   "source": [
    "a=list(range(0,10,1))\n",
    "b=list(range(0,100,10))\n",
    "c=list(range(0,1000,100))\n",
    "print(a)\n",
    "print(b)\n",
    "print(c)\n",
    "\n",
    "\n",
    "list=[a,b,c]\n",
    "print(list)"
   ]
  },
  {
   "cell_type": "markdown",
   "metadata": {},
   "source": [
    "To access an element of the list one uses a list[idx1][idx2]:"
   ]
  },
  {
   "cell_type": "code",
   "execution_count": null,
   "metadata": {},
   "outputs": [],
   "source": [
    "list[2][3]"
   ]
  },
  {
   "cell_type": "markdown",
   "metadata": {},
   "source": [
    "## 7) Examples\n",
    "\n",
    "- Make a list with the 7 days of the week. \n",
    "    - From this list and with a single command, get the working days and the week-end days in two differet sublists.\n",
    "    - Find two ways to access the last day of the week.\n",
    "    - Invert the days of the week in a single command.\n",
    "- Create a 2 dimentional list with with the months corresponding to winter, spring, summer, fall. Try to guess what the the following commands gives:\n",
    "    - seasons[2]\n",
    "    - seasons[1][0]\n",
    "    - seasons[1:2]\n",
    "    - seasons[:][1]\n",
    "- How many even numbers are in the range [2,10000]?\n",
    "\n",
    "- From the list [5, 1, 1, 2, 5, 6, 3, 4, 4, 4, 2], remove numbers that appear multiple times, sort and display the list."
   ]
  },
  {
   "cell_type": "code",
   "execution_count": null,
   "metadata": {},
   "outputs": [],
   "source": []
  }
 ],
 "metadata": {
  "kernelspec": {
   "display_name": "Python 3",
   "language": "python",
   "name": "python3"
  },
  "language_info": {
   "codemirror_mode": {
    "name": "ipython",
    "version": 3
   },
   "file_extension": ".py",
   "mimetype": "text/x-python",
   "name": "python",
   "nbconvert_exporter": "python",
   "pygments_lexer": "ipython3",
   "version": "3.7.3"
  }
 },
 "nbformat": 4,
 "nbformat_minor": 2
}
