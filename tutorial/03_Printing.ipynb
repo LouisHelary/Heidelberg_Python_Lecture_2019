{
 "cells": [
  {
   "cell_type": "markdown",
   "metadata": {},
   "source": [
    "# Printing and formatting"
   ]
  },
  {
   "cell_type": "markdown",
   "metadata": {},
   "source": [
    "# 1) Display output"
   ]
  },
  {
   "cell_type": "markdown",
   "metadata": {},
   "source": [
    "## 1.1) Function print()"
   ]
  },
  {
   "cell_type": "markdown",
   "metadata": {},
   "source": [
    "The print() function will display the argument which is passed. In the following case, one just pass a string: "
   ]
  },
  {
   "cell_type": "code",
   "execution_count": null,
   "metadata": {},
   "outputs": [],
   "source": [
    "print (\" Hello world !\")"
   ]
  },
  {
   "cell_type": "markdown",
   "metadata": {},
   "source": [
    "One can also pass any type of variable, and display one or many variables (they are just separated by a comma):"
   ]
  },
  {
   "cell_type": "code",
   "execution_count": null,
   "metadata": {},
   "outputs": [],
   "source": [
    "x=3.14\n",
    "i=5\n",
    "b=True\n",
    "k=\"Hello !\"\n",
    "print(x)\n",
    "print(x,i,b,k)"
   ]
  },
  {
   "cell_type": "markdown",
   "metadata": {},
   "source": [
    "By default the print instruction will contain a carriage return at the end of each line. It is possible to remove it, by adding the \"end\" keyword as an argument to the print function: "
   ]
  },
  {
   "cell_type": "code",
   "execution_count": null,
   "metadata": {},
   "outputs": [],
   "source": [
    "print (\" Hello world !\", end =\"\")"
   ]
  },
  {
   "cell_type": "markdown",
   "metadata": {},
   "source": [
    "The default separator between two variables used in print is a space, which can be changed using the \"sep\" keyword:"
   ]
  },
  {
   "cell_type": "code",
   "execution_count": null,
   "metadata": {},
   "outputs": [],
   "source": [
    "print(x,k,sep=\"|\")"
   ]
  },
  {
   "cell_type": "markdown",
   "metadata": {},
   "source": [
    "## 1.2) Fromat output"
   ]
  },
  {
   "cell_type": "markdown",
   "metadata": {},
   "source": [
    "The .format() method allow to better organize the printing of variable:"
   ]
  },
  {
   "cell_type": "code",
   "execution_count": null,
   "metadata": {},
   "outputs": [],
   "source": [
    "x=32\n",
    "name=\"John\"\n",
    "print (\"{} is {} years old \". format (name , x))"
   ]
  },
  {
   "cell_type": "markdown",
   "metadata": {},
   "source": [
    "In the chain of characters, \"{}\" is used to show where the variables must be added, the format method is gives the list of variables that must be inserted. It is possible to indicate the order of the variables in the list by using an index in the \"{}\"."
   ]
  },
  {
   "cell_type": "code",
   "execution_count": null,
   "metadata": {},
   "outputs": [],
   "source": [
    "print (\"{1} is {0} years old \". format (name , x))\n",
    "print (\"{0} is {1} years old \". format (name , x))"
   ]
  },
  {
   "cell_type": "markdown",
   "metadata": {},
   "source": [
    "If one want to display a float, it is possible to format the number of digit to be displayed displayed. For instance:\n"
   ]
  },
  {
   "cell_type": "code",
   "execution_count": null,
   "metadata": {},
   "outputs": [],
   "source": [
    "div=(45 + 25)/ 148\n",
    "print(\"The result is {}\".format(div))\n",
    "\n",
    "print(\"The formated result with 2 decimal is {:0.2f}\".format(div))\n",
    "print(\"The formated result with 3 decimal is {:0.3f}\".format(div))\n"
   ]
  },
  {
   "cell_type": "markdown",
   "metadata": {},
   "source": [
    "It is also possible combine the two:\n"
   ]
  },
  {
   "cell_type": "code",
   "execution_count": null,
   "metadata": {},
   "outputs": [],
   "source": [
    "print(\"The formated result with 2 decimal is {0:0.2f} while {1} and {2:d}\".format(div,x,int(div)))\n"
   ]
  },
  {
   "cell_type": "markdown",
   "metadata": {},
   "source": [
    "It is possible to specify the number of caracters used to format the print out, using the following set of instructions:\n",
    "- > will align to the right hand side\n",
    "- < will align to the left hand side\n",
    "- ^ will align the center\n",
    "- It is also possible to specify the caracter used to fill the spaces (here * or 0 in examples 5 and 6)\n"
   ]
  },
  {
   "cell_type": "code",
   "execution_count": null,
   "metadata": {},
   "outputs": [],
   "source": [
    "print (10) ; print (1000)\n",
    "\n",
    "print (\"------\");print (\"{:>6d}\". format (10)) ; print (\"{:>6d}\". format (1000))\n",
    "print (\"------\");print (\"{:<6d}\". format (10)) ; print (\"{:<6d}\". format (1000))\n",
    "print (\"------\");print (\"{:^6d}\". format (10)) ; print (\"{:^6d}\". format (1000))\n",
    "print (\"------\");print (\"{:*^6d}\". format (10)) ; print (\"{:*^6d}\". format (1000))\n",
    "print (\"------\");print (\"{:0>6d}\". format (10)) ; print (\"{:0>6d}\". format (1000))"
   ]
  },
  {
   "cell_type": "markdown",
   "metadata": {},
   "source": [
    "It is also possible to do the same with strings:"
   ]
  },
  {
   "cell_type": "code",
   "execution_count": null,
   "metadata": {},
   "outputs": [],
   "source": [
    "print (\" Number 10 \") ; print (\" Number 1000 \")\n",
    "print (\" Number {:>4s}\". format (\" 10 \")) ; print (\" Number {:<4s}\". format (\" 1000 \"))"
   ]
  },
  {
   "cell_type": "markdown",
   "metadata": {},
   "source": [
    "If one want to display \"{}\" in the print out, one need to double them: \"{{}}\":"
   ]
  },
  {
   "cell_type": "code",
   "execution_count": null,
   "metadata": {},
   "outputs": [],
   "source": [
    "print (\" Display {{}} and format {}\". format (10))"
   ]
  },
  {
   "cell_type": "markdown",
   "metadata": {},
   "source": [
    "## 1.3) Exercises"
   ]
  },
  {
   "cell_type": "markdown",
   "metadata": {},
   "source": [
    "- Open an interpreter and type 1+1. What is happening? Now if you do the same in a file .py ? How can you print out the result?\n",
    "- Using formated writing display on a single line 3 variables: a, b and c with values \"hello\", integer 102 and float 13.4256 where only 3 decimals will be displayed."
   ]
  },
  {
   "cell_type": "code",
   "execution_count": null,
   "metadata": {},
   "outputs": [],
   "source": []
  }
 ],
 "metadata": {
  "kernelspec": {
   "display_name": "Python 3",
   "language": "python",
   "name": "python3"
  },
  "language_info": {
   "codemirror_mode": {
    "name": "ipython",
    "version": 3
   },
   "file_extension": ".py",
   "mimetype": "text/x-python",
   "name": "python",
   "nbconvert_exporter": "python",
   "pygments_lexer": "ipython3",
   "version": "3.7.3"
  }
 },
 "nbformat": 4,
 "nbformat_minor": 2
}
