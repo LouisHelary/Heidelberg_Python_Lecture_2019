{
 "cells": [
  {
   "cell_type": "markdown",
   "metadata": {},
   "source": [
    "# Introduction\n",
    "\n",
    "## 1) What is Python?\n",
    "Python was ceated in 1989 by Guido van Rossum, in Netherland. The name is a tribute to the `Monty Python’s Flying Circus` TV show. The first version of Python dates from 1991.\n",
    "\n",
    "Python 2.7 was released on July 3rd 2010, and will not be supported anymore from January 2020. Python 3.7 was release on June 20th 2018 and will be supported in the future, which is the reason why we are using it.\n",
    "\n",
    "## 2) Why using Python?\n",
    "There are many reason to use this language:\n",
    "- It is cross-platform, and works on many OS, or hardware.\n",
    "- It is free.\n",
    "- It is a high level language, and do not necessitate a lot of knowledge on computers.\n",
    "- It is interpreted, it does not need to be compiled.\n",
    "- It is oriented object.\n",
    "- It is easy to start with.\n",
    "- It is the language currently used in the industry and academia for data analysis.\n",
    "\n",
    "## 3) Some exemple why Python is easy to use:\n",
    "\n",
    "### Quicksort Pseudocode from Wikipedia"
   ]
  },
  {
   "cell_type": "raw",
   "metadata": {},
   "source": [
    "function quicksort(array)\n",
    "    var list less, greater\n",
    "    if \n",
    "    length(array) ≤ 1\n",
    "        return array\n",
    "    select and remove a pivot value pivot from array\n",
    "    for each x in array\n",
    "        if x ≤ pivot then append x to less\n",
    "        else append x to greater\n",
    "    return concatenate(quicksort(less), pivot, quicksort(greater))"
   ]
  },
  {
   "cell_type": "markdown",
   "metadata": {},
   "source": [
    "### Here is a Python implementation"
   ]
  },
  {
   "cell_type": "code",
   "execution_count": null,
   "metadata": {},
   "outputs": [],
   "source": [
    "import random\n",
    "\n",
    "# A python implementation of the Wikipedia quicksort algorithm\n",
    "def my_quicksort(array):\n",
    "    if len(array) <= 1:\n",
    "        return array\n",
    "    \n",
    "    pivot = array[0] # select a pivot (first element of list)\n",
    "    rest = array[1:] # the array with the pivot\n",
    "                     # removed\n",
    "    less = [x for x in rest if x <= pivot]\n",
    "    greater = [x for x in rest if x > pivot]\n",
    "    \n",
    "    return my_quicksort(less) + [pivot] + my_quicksort(greater)\n",
    "\n",
    "testarr = [random.randint(-1000, 1000) for i in range(30)]\n",
    "print(testarr)\n",
    "print(my_quicksort(testarr))"
   ]
  },
  {
   "cell_type": "markdown",
   "metadata": {},
   "source": [
    "As you can see the implementation is easy to read, although you will know more about each instructions at the end of this tutorial!\n",
    "\n",
    "As we said before we will use the jupyter notebook in this tutorial so let's take a look at that in further details:"
   ]
  },
  {
   "cell_type": "markdown",
   "metadata": {},
   "source": [
    "## 4)  Jupyter Notebook\n",
    "\n",
    "Jupyter Notebook allow to run different type of language, including Python3. The main advantage is that everything, comments, code, image,... is integrated in the web browser.\n",
    "\n",
    "### 4.1) First steps:\n",
    "\n",
    "We have already seen how to start a Notebook session. In order to start a new Notebook, just do: ``File -> New Notebook``. Make sure that the document is started in Python3. When starting a new notebook the first thing we see is a cell, inside which we can enter anything:"
   ]
  },
  {
   "cell_type": "code",
   "execution_count": null,
   "metadata": {},
   "outputs": [],
   "source": [
    "print(\"Hello World!\")"
   ]
  },
  {
   "cell_type": "markdown",
   "metadata": {},
   "source": [
    "And run it using the ``Run`` bouton. The cell can be modified and reexectued as many times as we want. "
   ]
  },
  {
   "cell_type": "markdown",
   "metadata": {},
   "source": [
    "### 4.2) Markdown cells:\n",
    "\n",
    "One can modify the type of the cell using the scroll down menu where ``Code`` is by marked by default. The ``Markdown`` menu can be used to write down text, tables, and display picture. The current cell you are reading is a Markdown cell.\n",
    "\n",
    "There many things that can be used in such a cell:\n",
    "- Title: Obtains using \"#\" characters (1-4).\n",
    "- Latex: Use the latex formatting with character: \"$\".\n",
    "- There are many other markdown codes that can be found, for instance at:\n",
    "https://www.ibm.com/support/knowledgecenter/en/SSGNPV_1.1.3/dsx/markd-jupyter.html\n"
   ]
  },
  {
   "cell_type": "markdown",
   "metadata": {},
   "source": [
    "### 4.3) Running linux commands:\n",
    "\n",
    "This is obtained by adding a \"!\" char in front of the linux command. For instance:"
   ]
  },
  {
   "cell_type": "code",
   "execution_count": null,
   "metadata": {},
   "outputs": [],
   "source": [
    "# list current directories contents\n",
    "!ls -F\n",
    "# print working dirctory\n",
    "!pwd\n",
    "# change directoty; NOTE: to change the directory for the IPython\n",
    "# session, you need to prepend 'cd' with a percent sign (jupyter magic)\n",
    "%cd data\n",
    "!ls\n",
    "%cd .."
   ]
  },
  {
   "cell_type": "markdown",
   "metadata": {},
   "source": [
    "### 4.4) Run and examine script-code from disk or the web:"
   ]
  },
  {
   "cell_type": "code",
   "execution_count": null,
   "metadata": {},
   "outputs": [],
   "source": [
    "# The notebook offers 'magic'-commands\n",
    "# Python-code is here in a code-subdiretory\n",
    "%run ./python/magic_test.py"
   ]
  },
  {
   "cell_type": "code",
   "execution_count": null,
   "metadata": {},
   "outputs": [],
   "source": [
    "%load python/magic_test.py"
   ]
  },
  {
   "cell_type": "code",
   "execution_count": null,
   "metadata": {},
   "outputs": [],
   "source": [
    "# list variables currently defined within this notebook.\n",
    "# Here we see variables that were originally defined in the program\n",
    "# code/magic_test.py\n",
    "%whos"
   ]
  },
  {
   "cell_type": "code",
   "execution_count": null,
   "metadata": {},
   "outputs": [],
   "source": [
    "%load https://matplotlib.org/mpl_examples/lines_bars_and_markers/line_demo_dash_control.py"
   ]
  },
  {
   "cell_type": "markdown",
   "metadata": {},
   "source": [
    "### 4.5) Find available methods and functions within modules and objects\n"
   ]
  },
  {
   "cell_type": "code",
   "execution_count": null,
   "metadata": {},
   "outputs": [],
   "source": [
    "# You can search for function-names\n",
    "import numpy\n",
    "\n",
    "# You want to find out, how the numpy-function for arcus-cosinus is. You know that\n",
    "# the function name certainly has cos in it:\n",
    "numpy.*cos*?\n",
    "# list all numpy commands ending with sin\n",
    "#numpy.*sin?"
   ]
  },
  {
   "cell_type": "code",
   "execution_count": null,
   "metadata": {},
   "outputs": [],
   "source": [
    "# You can search for 'methods' (functions) that can be applied to objects:\n",
    "s = \"Hello world\"\n",
    "print(s)\n",
    "print(len(s))\n",
    "# use <TAB>-completion to list all methods available for s\n",
    "# s."
   ]
  },
  {
   "cell_type": "markdown",
   "metadata": {},
   "source": [
    "### 4.6) Finishing your session\n",
    "Please make sure to cleanly close your jupyter-notebook sessions - mainly to ensure that all your work and notebooks are properly saved.\n",
    "\n",
    "A rather foolproof procedure is:\n",
    "1. Save your notebook (File -> Save and Checkpoint or key shortcut). Do this from time to time during your work sessions (browser crashes etc.)\n",
    "2. Cleanly close your notebook(s) (File -> Close and Halt)\n",
    "3. Exit your WWW browser\n",
    "4. Type in a shell\n",
    "    ```\n",
    "    user$ jupyter notebook list\n",
    "    Currently running servers:\n",
    "    http://localhost:8888/...\n",
    "    .\n",
    "    .\n",
    "    ```\n",
    "    Note the four digit number after `localhost:`. In our case this is `8888`\n",
    "    \n",
    "    ```\n",
    "    user$ jupyter notebook stop 8888  # stops the notebook kernel 8888\n",
    "    ```"
   ]
  },
  {
   "cell_type": "markdown",
   "metadata": {},
   "source": [
    "### 4.7) Important notes:\n",
    "\n",
    "A few important notes about using the notebook:\n",
    "\n",
    "1. Save often! There is an auto-save in the notebook, but better to also save explicitly from time to time.\n",
    "2. If you accidentally close your WWW browser and you want to reenter your session, you can do the following:\n",
    "   1. Type in a Linux-shell\n",
    "    ```\n",
    "    user$ jupyter notebook list\n",
    "    Currently running servers:\n",
    "    http://localhost:8888/...\n",
    "    .\n",
    "    .\n",
    "    ```\n",
    "    \n",
    "   2. Open your WWW browser\n",
    "   3. Type into the adress-field `http://localhost:8888/`, i.e. the address you got from the `jupyter notebook list`-command leaving away everything after the `localhost:XXXX`-string.\n",
    "3. Code *can* be executed in an order different from top to bottom, but note that if you do this variables will not be reset. So for example if you type:"
   ]
  },
  {
   "cell_type": "code",
   "execution_count": null,
   "metadata": {},
   "outputs": [],
   "source": [
    "a = 1"
   ]
  },
  {
   "cell_type": "markdown",
   "metadata": {},
   "source": [
    "then go higher up and type:"
   ]
  },
  {
   "cell_type": "code",
   "execution_count": null,
   "metadata": {},
   "outputs": [],
   "source": [
    "print(a)"
   ]
  },
  {
   "cell_type": "markdown",
   "metadata": {},
   "source": [
    "it will give the value you previously set. To make sure that your code works from top to bottom, go to the 'Cell' menu item and go to **All Output** -> **Clear** then in the **Cell** menu, select **Run All**.\n",
    "\n",
    "In addition, even if you remove a cell, then variables set in that cell still exist unless you restart the notebook. If you want to restart a notebook, you can select **Kernel** -> **Restart**. This removes any variables from memory, and you have to start running the notebook from the start."
   ]
  }
 ],
 "metadata": {
  "kernelspec": {
   "display_name": "Python 3",
   "language": "python",
   "name": "python3"
  },
  "language_info": {
   "codemirror_mode": {
    "name": "ipython",
    "version": 3
   },
   "file_extension": ".py",
   "mimetype": "text/x-python",
   "name": "python",
   "nbconvert_exporter": "python",
   "pygments_lexer": "ipython3",
   "version": "3.7.3"
  }
 },
 "nbformat": 4,
 "nbformat_minor": 2
}
