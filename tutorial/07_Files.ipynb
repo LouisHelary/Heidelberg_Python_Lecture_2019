{
 "cells": [
  {
   "cell_type": "markdown",
   "metadata": {},
   "source": [
    "# Reading and writting to a file\n",
    "\n",
    "## 1) Reading files\n",
    "\n",
    "I have created two files that are in the data directory, lets look what they are. It is easy to use shell command line using in the jupyter notebook, they just need to be preceded by the \"!\". For example:"
   ]
  },
  {
   "cell_type": "code",
   "execution_count": null,
   "metadata": {},
   "outputs": [],
   "source": [
    "!ls ../data/"
   ]
  },
  {
   "cell_type": "markdown",
   "metadata": {},
   "source": [
    "Let's open the first file called: animals.txt"
   ]
  },
  {
   "cell_type": "code",
   "execution_count": null,
   "metadata": {},
   "outputs": [],
   "source": [
    "filin = open (\"../data/animals.txt\", \"r\")\n",
    "lines=filin.readlines()\n",
    "print(lines)\n",
    "filin.close()\n",
    "print(filin.readlines())\n"
   ]
  },
  {
   "cell_type": "markdown",
   "metadata": {},
   "source": [
    "The open() instruction, open the file given in argument (be careful of the path to the file). The file is opened in readonly mode (\"r\"). At this point the file is only open not read. To read the file one use the .readlines() method that will create a list with the content of each line in the file. The .close() method close the file, and it's content is not available anymore when it is closed. Once the file is open and read it is possible to loop through its elements as usual."
   ]
  },
  {
   "cell_type": "code",
   "execution_count": null,
   "metadata": {},
   "outputs": [],
   "source": [
    "for line in lines:\n",
    "    print(line)"
   ]
  },
  {
   "cell_type": "markdown",
   "metadata": {},
   "source": [
    "Each element of the list is a string. In Python it is also possible to make sure that the file is open and closed properly using the \"with\" instruction:"
   ]
  },
  {
   "cell_type": "code",
   "execution_count": null,
   "metadata": {},
   "outputs": [],
   "source": [
    "with open (\"../data/animals.txt\", 'r') as filin :\n",
    "    lines=filin.readlines()\n",
    "    for line in lines:\n",
    "        print(line)\n",
    "    "
   ]
  },
  {
   "cell_type": "markdown",
   "metadata": {},
   "source": [
    "The file is closed at the end of the indented block corresponding to with.\n",
    "\n",
    "It is also possible to read the full file not line by line and get a single string:"
   ]
  },
  {
   "cell_type": "code",
   "execution_count": null,
   "metadata": {},
   "outputs": [],
   "source": [
    "with open (\"../data/animals.txt\", 'r') as filin :\n",
    "    file=filin.read()\n",
    "    print(file)"
   ]
  },
  {
   "cell_type": "markdown",
   "metadata": {},
   "source": [
    "It is also possible to open the file line by line and iterate over them using the .readline() method. For instance:"
   ]
  },
  {
   "cell_type": "code",
   "execution_count": null,
   "metadata": {},
   "outputs": [],
   "source": [
    "with open (\"../data/animals.txt\", \"r\") as filin :\n",
    "    line = filin .readline()\n",
    "    while line != \"\":\n",
    "        print ( line )\n",
    "        line = filin.readline()"
   ]
  },
  {
   "cell_type": "markdown",
   "metadata": {},
   "source": [
    "It is also possible to iterate directly on the opened file:"
   ]
  },
  {
   "cell_type": "code",
   "execution_count": null,
   "metadata": {},
   "outputs": [],
   "source": [
    "with open (\"../data/animals.txt\", 'r') as filin :\n",
    "    for line in filin:\n",
    "        print(line)"
   ]
  },
  {
   "cell_type": "markdown",
   "metadata": {},
   "source": [
    "## 2) Writting files\n",
    "\n",
    "Writting files is equally simple, one just need to open a file in write mode (\"w\"):"
   ]
  },
  {
   "cell_type": "code",
   "execution_count": null,
   "metadata": {},
   "outputs": [],
   "source": [
    "animals2=[\"Pigeons\",\"Frogs\",\"Girafs\"]\n",
    "with open (\"../data/animals2.txt\", 'w') as filout :\n",
    "    for animal in animals2:\n",
    "        filout.write(animal+\"\\n\")"
   ]
  },
  {
   "cell_type": "markdown",
   "metadata": {},
   "source": [
    "If one want to separate each line of the file by a new line, it has to be declared explicitely: \"\\n\". \n",
    "\n",
    "It is also possible to open many files at the same time with the with option:"
   ]
  },
  {
   "cell_type": "code",
   "execution_count": null,
   "metadata": {},
   "outputs": [],
   "source": [
    "with open (\"../data/animals.txt\", \"r\") as file1 , open (\"../data/animals_3.txt\", \"w\") as file2 :\n",
    "    for line in file1 :\n",
    "        file2 . write (\"* \" + line )"
   ]
  },
  {
   "cell_type": "markdown",
   "metadata": {},
   "source": [
    "## 3) Conversion types with opened files\n",
    "When reading files, the content is always a string. If one has written other elements (int or float), they have to be explicitely converted to be usable. It is also important to notice that only strings can be written to files using these methods."
   ]
  },
  {
   "cell_type": "markdown",
   "metadata": {},
   "source": [
    "## 4) Exercise\n",
    "\n",
    "- Open the file ../data/numbers.txt create a list with each value. Compute the average value and the standard deviation for this list.\n",
    "\n",
    "- Draw a spiral: \n",
    "    - create a file spiral.py to compute the cartesian coordinates of a spiral at 2 dimensions. The cartesian coordinates $x_a$ and $y_a$ of a point A on a circle with radius $r$ are expressed in term of the polar angle $\\theta$, as $x_a=cos(\\theta)\\times r$ and $y_a=cos(\\theta)\\times r$.\n",
    "    - To compute the cartesian coordinates that describes the spiral, vary both parameters at the same time:\n",
    "       - The angle $\\theta$ will take any values from $0$ to $4\\pi$ by step of 0.1\n",
    "       - The circle radius r, initiale value will be 0.5 and will be incremented by 0.5.\n",
    "       - You will use the module math and the functions sin and cosin:\n",
    "           - math.sin(), math.cos()\n",
    "           - $\\pi$ is also accessible in the same module using math.pi\n",
    "       - Save the coordinates in a file ./data/spiral.dat\n",
    "       - Each line of the file should contain a couple of coordinate ($x_a$, $y_a$). Each values should be separated with a space, and the coordinates should be displayed with 10 characters with 5 digits.\n",
    "       \n",
    "   - Display the output using the following piece of code:"
   ]
  },
  {
   "cell_type": "code",
   "execution_count": null,
   "metadata": {},
   "outputs": [],
   "source": [
    "import matplotlib . pyplot as plt\n",
    "x = []\n",
    "y = []\n",
    "with open (\"../data/spiral.dat \", \"r\") as f_in\n",
    "    for line in f_in :\n",
    "        coords = line.split()\n",
    "        x. append ( float ( coords [0]))\n",
    "        y. append ( float ( coords [1]))\n",
    "plt.figure ( figsize =(8 ,8))\n",
    "mini = min (x+y) * 1.2\n",
    "maxi = max (x+y) * 1.2\n",
    "plt . xlim (mini , maxi )\n",
    "plt . ylim (mini , maxi )\n",
    "plt . plot (x, y)\n",
    "plt . savefig(\"../figures/spirale.png\")"
   ]
  },
  {
   "cell_type": "code",
   "execution_count": null,
   "metadata": {},
   "outputs": [],
   "source": []
  }
 ],
 "metadata": {
  "kernelspec": {
   "display_name": "Python 3",
   "language": "python",
   "name": "python3"
  },
  "language_info": {
   "codemirror_mode": {
    "name": "ipython",
    "version": 3
   },
   "file_extension": ".py",
   "mimetype": "text/x-python",
   "name": "python",
   "nbconvert_exporter": "python",
   "pygments_lexer": "ipython3",
   "version": "3.7.3"
  }
 },
 "nbformat": 4,
 "nbformat_minor": 2
}
